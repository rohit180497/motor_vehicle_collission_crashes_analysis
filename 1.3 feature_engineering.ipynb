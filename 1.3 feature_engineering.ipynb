{
 "cells": [
  {
   "cell_type": "markdown",
   "id": "6c664b99-7263-4a0a-9fa2-65c704d9fd29",
   "metadata": {},
   "source": [
    "\n",
    "<BR>\n",
    "<CENTER>\n",
    "<FONT SIZE = 4, COLOR=\"#2C32C3\">\n",
    "<BR><B>Northeastern University</B>\n",
    "<BR><B><font size=4, color=black>Husky-3,</BR>\n",
    "ALY6010 Prob Theory and Intro Stats</B>\n",
    " <BR> Motor Vehicle Collision Analysis in New York(2017-2023)\n",
    "<BR> Final Project\n",
    "<BR> Rohit Kosamkar, Sapna Chavan, Leena Doultani, Soumya Guliyan, Aliha Ansari, Baudhik Kevadiya\n",
    "<BR><font size=4, color=dark red> Date: 03.24.2024\n",
    "</FONT>\n",
    "</CENTER>"
   ]
  },
  {
   "cell_type": "code",
   "execution_count": 2,
   "id": "b6bb702a-b65e-4657-9445-89d7507ed9e4",
   "metadata": {},
   "outputs": [],
   "source": [
    "library(dplyr)\n",
    "library(arrow)\n",
    "library(ggplot2)\n",
    "library(corrplot)\n",
    "library(caret)\n",
    "library(car)\n",
    "library(fastDummies)\n",
    "set.seed(123)"
   ]
  },
  {
   "cell_type": "code",
   "execution_count": 3,
   "id": "74ce6a3a-3cc2-454b-b2b1-452d51a00d5b",
   "metadata": {},
   "outputs": [
    {
     "data": {
      "text/html": [
       "<style>\n",
       ".list-inline {list-style: none; margin:0; padding: 0}\n",
       ".list-inline>li {display: inline-block}\n",
       ".list-inline>li:not(:last-child)::after {content: \"\\00b7\"; padding: 0 .5ex}\n",
       "</style>\n",
       "<ol class=list-inline><li>1112224</li><li>27</li></ol>\n"
      ],
      "text/latex": [
       "\\begin{enumerate*}\n",
       "\\item 1112224\n",
       "\\item 27\n",
       "\\end{enumerate*}\n"
      ],
      "text/markdown": [
       "1. 1112224\n",
       "2. 27\n",
       "\n",
       "\n"
      ],
      "text/plain": [
       "[1] 1112224      27"
      ]
     },
     "metadata": {},
     "output_type": "display_data"
    }
   ],
   "source": [
    "# Reading Dataset \n",
    "crash_data <- read_parquet(\"crash_data.parquet\")\n",
    "dim(crash_data)"
   ]
  },
  {
   "cell_type": "code",
   "execution_count": 4,
   "id": "6d6aaeb8-25ae-4c9b-9514-00c010c2e8e4",
   "metadata": {},
   "outputs": [
    {
     "data": {
      "text/html": [
       "<table class=\"dataframe\">\n",
       "<caption>A data.frame: 6 × 6</caption>\n",
       "<thead>\n",
       "\t<tr><th></th><th scope=col>number_of_pedestrians_injured</th><th scope=col>number_of_pedestrians_killed</th><th scope=col>number_of_cyclist_injured</th><th scope=col>number_of_cyclist_killed</th><th scope=col>number_of_motorist_injured</th><th scope=col>number_of_motorist_killed</th></tr>\n",
       "\t<tr><th></th><th scope=col>&lt;int&gt;</th><th scope=col>&lt;int&gt;</th><th scope=col>&lt;int&gt;</th><th scope=col>&lt;int&gt;</th><th scope=col>&lt;int&gt;</th><th scope=col>&lt;int&gt;</th></tr>\n",
       "</thead>\n",
       "<tbody>\n",
       "\t<tr><th scope=row>1</th><td>0</td><td>0</td><td>0</td><td>0</td><td>2</td><td>0</td></tr>\n",
       "\t<tr><th scope=row>2</th><td>0</td><td>0</td><td>0</td><td>0</td><td>1</td><td>0</td></tr>\n",
       "\t<tr><th scope=row>3</th><td>0</td><td>0</td><td>0</td><td>0</td><td>0</td><td>0</td></tr>\n",
       "\t<tr><th scope=row>4</th><td>0</td><td>0</td><td>0</td><td>0</td><td>0</td><td>0</td></tr>\n",
       "\t<tr><th scope=row>5</th><td>0</td><td>0</td><td>0</td><td>0</td><td>0</td><td>0</td></tr>\n",
       "\t<tr><th scope=row>6</th><td>0</td><td>0</td><td>0</td><td>0</td><td>0</td><td>0</td></tr>\n",
       "</tbody>\n",
       "</table>\n"
      ],
      "text/latex": [
       "A data.frame: 6 × 6\n",
       "\\begin{tabular}{r|llllll}\n",
       "  & number\\_of\\_pedestrians\\_injured & number\\_of\\_pedestrians\\_killed & number\\_of\\_cyclist\\_injured & number\\_of\\_cyclist\\_killed & number\\_of\\_motorist\\_injured & number\\_of\\_motorist\\_killed\\\\\n",
       "  & <int> & <int> & <int> & <int> & <int> & <int>\\\\\n",
       "\\hline\n",
       "\t1 & 0 & 0 & 0 & 0 & 2 & 0\\\\\n",
       "\t2 & 0 & 0 & 0 & 0 & 1 & 0\\\\\n",
       "\t3 & 0 & 0 & 0 & 0 & 0 & 0\\\\\n",
       "\t4 & 0 & 0 & 0 & 0 & 0 & 0\\\\\n",
       "\t5 & 0 & 0 & 0 & 0 & 0 & 0\\\\\n",
       "\t6 & 0 & 0 & 0 & 0 & 0 & 0\\\\\n",
       "\\end{tabular}\n"
      ],
      "text/markdown": [
       "\n",
       "A data.frame: 6 × 6\n",
       "\n",
       "| <!--/--> | number_of_pedestrians_injured &lt;int&gt; | number_of_pedestrians_killed &lt;int&gt; | number_of_cyclist_injured &lt;int&gt; | number_of_cyclist_killed &lt;int&gt; | number_of_motorist_injured &lt;int&gt; | number_of_motorist_killed &lt;int&gt; |\n",
       "|---|---|---|---|---|---|---|\n",
       "| 1 | 0 | 0 | 0 | 0 | 2 | 0 |\n",
       "| 2 | 0 | 0 | 0 | 0 | 1 | 0 |\n",
       "| 3 | 0 | 0 | 0 | 0 | 0 | 0 |\n",
       "| 4 | 0 | 0 | 0 | 0 | 0 | 0 |\n",
       "| 5 | 0 | 0 | 0 | 0 | 0 | 0 |\n",
       "| 6 | 0 | 0 | 0 | 0 | 0 | 0 |\n",
       "\n"
      ],
      "text/plain": [
       "  number_of_pedestrians_injured number_of_pedestrians_killed\n",
       "1 0                             0                           \n",
       "2 0                             0                           \n",
       "3 0                             0                           \n",
       "4 0                             0                           \n",
       "5 0                             0                           \n",
       "6 0                             0                           \n",
       "  number_of_cyclist_injured number_of_cyclist_killed number_of_motorist_injured\n",
       "1 0                         0                        2                         \n",
       "2 0                         0                        1                         \n",
       "3 0                         0                        0                         \n",
       "4 0                         0                        0                         \n",
       "5 0                         0                        0                         \n",
       "6 0                         0                        0                         \n",
       "  number_of_motorist_killed\n",
       "1 0                        \n",
       "2 0                        \n",
       "3 0                        \n",
       "4 0                        \n",
       "5 0                        \n",
       "6 0                        "
      ]
     },
     "metadata": {},
     "output_type": "display_data"
    }
   ],
   "source": [
    "# let's have a view of data\n",
    "head(crash_data[,10:15])"
   ]
  },
  {
   "cell_type": "code",
   "execution_count": 5,
   "id": "35bf45ec-97c9-4cdf-a187-6f4f974b7492",
   "metadata": {},
   "outputs": [
    {
     "name": "stdout",
     "output_type": "stream",
     "text": [
      "'data.frame':\t1112224 obs. of  27 variables:\n",
      " $ X                            : int  1 2 3 4 5 6 7 8 9 10 ...\n",
      " $ crash_date                   : chr  \"2021-09-11\" \"2022-03-26\" \"2022-06-29\" \"2021-09-11\" ...\n",
      " $ crash_time                   : chr  \"2:39\" \"11:45\" \"6:55\" \"9:35\" ...\n",
      " $ borough                      : chr  \"\" \"\" \"\" \"BROOKLYN\" ...\n",
      " $ zip_code                     : int  NA NA NA 11208 11233 NA NA 10475 11207 10017 ...\n",
      " $ latitude                     : num  NA NA NA 40.7 40.7 ...\n",
      " $ longitude                    : num  NA NA NA -73.9 -73.9 ...\n",
      " $ number_of_persons_injured    : int  2 1 0 0 0 0 0 2 0 0 ...\n",
      " $ number_of_persons_killed     : int  0 0 0 0 0 0 0 0 0 0 ...\n",
      " $ number_of_pedestrians_injured: int  0 0 0 0 0 0 0 0 0 0 ...\n",
      " $ number_of_pedestrians_killed : int  0 0 0 0 0 0 0 0 0 0 ...\n",
      " $ number_of_cyclist_injured    : int  0 0 0 0 0 0 0 0 0 0 ...\n",
      " $ number_of_cyclist_killed     : int  0 0 0 0 0 0 0 0 0 0 ...\n",
      " $ number_of_motorist_injured   : int  2 1 0 0 0 0 0 2 0 0 ...\n",
      " $ number_of_motorist_killed    : int  0 0 0 0 0 0 0 0 0 0 ...\n",
      " $ contributing_factor_vehicle_1: chr  \"Aggressive Driving/Road Rage\" \"Pavement Slippery\" \"Following Too Closely\" \"Unspecified\" ...\n",
      " $ contributing_factor_vehicle_2: chr  \"Unspecified\" \"Unspecified\" \"Unspecified\" \"Unspecified\" ...\n",
      " $ contributing_factor_vehicle_3: chr  \"Unspecified\" \"Unspecified\" \"Unspecified\" \"Unspecified\" ...\n",
      " $ collision_id                 : int  4455765 4513547 4541903 4456314 4486609 4407458 4486555 4486660 4487074 4486519 ...\n",
      " $ vehicle_type_code_1          : chr  \"Sedan\" \"Sedan\" \"Sedan\" \"Sedan\" ...\n",
      " $ vehicle_type_code_2          : chr  \"Sedan\" \"\" \"Pick-up Truck\" \"\" ...\n",
      " $ vehicle_type_code_3          : chr  \"\" \"\" \"\" \"\" ...\n",
      " $ month                        : int  9 3 6 9 12 4 12 12 12 12 ...\n",
      " $ year                         : int  2021 2022 2022 2021 2021 2021 2021 2021 2021 2021 ...\n",
      " $ total_injury                 : int  4 2 0 0 0 0 0 4 0 0 ...\n",
      " $ total_casualty               : int  0 0 0 0 0 0 0 0 0 0 ...\n",
      " $ total_injuries_deaths        : int  4 2 0 0 0 0 0 4 0 0 ...\n"
     ]
    }
   ],
   "source": [
    "str(crash_data)"
   ]
  },
  {
   "cell_type": "code",
   "execution_count": 6,
   "id": "f4ed9d5e-4ac4-4081-8790-f02bbdb0f52a",
   "metadata": {},
   "outputs": [
    {
     "data": {
      "text/html": [
       "<style>\n",
       ".dl-inline {width: auto; margin:0; padding: 0}\n",
       ".dl-inline>dt, .dl-inline>dd {float: none; width: auto; display: inline-block}\n",
       ".dl-inline>dt::after {content: \":\\0020\"; padding-right: .5ex}\n",
       ".dl-inline>dt:not(:first-of-type) {padding-left: .5ex}\n",
       "</style><dl class=dl-inline><dt>X</dt><dd>0</dd><dt>crash_date</dt><dd>0</dd><dt>crash_time</dt><dd>0</dd><dt>borough</dt><dd>0</dd><dt>zip_code</dt><dd>393070</dd><dt>latitude</dt><dd>81212</dd><dt>longitude</dt><dd>81212</dd><dt>number_of_persons_injured</dt><dd>0</dd><dt>number_of_persons_killed</dt><dd>0</dd><dt>number_of_pedestrians_injured</dt><dd>0</dd><dt>number_of_pedestrians_killed</dt><dd>0</dd><dt>number_of_cyclist_injured</dt><dd>0</dd><dt>number_of_cyclist_killed</dt><dd>0</dd><dt>number_of_motorist_injured</dt><dd>0</dd><dt>number_of_motorist_killed</dt><dd>0</dd><dt>contributing_factor_vehicle_1</dt><dd>0</dd><dt>contributing_factor_vehicle_2</dt><dd>0</dd><dt>contributing_factor_vehicle_3</dt><dd>0</dd><dt>collision_id</dt><dd>0</dd><dt>vehicle_type_code_1</dt><dd>0</dd><dt>vehicle_type_code_2</dt><dd>0</dd><dt>vehicle_type_code_3</dt><dd>0</dd><dt>month</dt><dd>0</dd><dt>year</dt><dd>0</dd><dt>total_injury</dt><dd>0</dd><dt>total_casualty</dt><dd>0</dd><dt>total_injuries_deaths</dt><dd>0</dd></dl>\n"
      ],
      "text/latex": [
       "\\begin{description*}\n",
       "\\item[X] 0\n",
       "\\item[crash\\textbackslash{}\\_date] 0\n",
       "\\item[crash\\textbackslash{}\\_time] 0\n",
       "\\item[borough] 0\n",
       "\\item[zip\\textbackslash{}\\_code] 393070\n",
       "\\item[latitude] 81212\n",
       "\\item[longitude] 81212\n",
       "\\item[number\\textbackslash{}\\_of\\textbackslash{}\\_persons\\textbackslash{}\\_injured] 0\n",
       "\\item[number\\textbackslash{}\\_of\\textbackslash{}\\_persons\\textbackslash{}\\_killed] 0\n",
       "\\item[number\\textbackslash{}\\_of\\textbackslash{}\\_pedestrians\\textbackslash{}\\_injured] 0\n",
       "\\item[number\\textbackslash{}\\_of\\textbackslash{}\\_pedestrians\\textbackslash{}\\_killed] 0\n",
       "\\item[number\\textbackslash{}\\_of\\textbackslash{}\\_cyclist\\textbackslash{}\\_injured] 0\n",
       "\\item[number\\textbackslash{}\\_of\\textbackslash{}\\_cyclist\\textbackslash{}\\_killed] 0\n",
       "\\item[number\\textbackslash{}\\_of\\textbackslash{}\\_motorist\\textbackslash{}\\_injured] 0\n",
       "\\item[number\\textbackslash{}\\_of\\textbackslash{}\\_motorist\\textbackslash{}\\_killed] 0\n",
       "\\item[contributing\\textbackslash{}\\_factor\\textbackslash{}\\_vehicle\\textbackslash{}\\_1] 0\n",
       "\\item[contributing\\textbackslash{}\\_factor\\textbackslash{}\\_vehicle\\textbackslash{}\\_2] 0\n",
       "\\item[contributing\\textbackslash{}\\_factor\\textbackslash{}\\_vehicle\\textbackslash{}\\_3] 0\n",
       "\\item[collision\\textbackslash{}\\_id] 0\n",
       "\\item[vehicle\\textbackslash{}\\_type\\textbackslash{}\\_code\\textbackslash{}\\_1] 0\n",
       "\\item[vehicle\\textbackslash{}\\_type\\textbackslash{}\\_code\\textbackslash{}\\_2] 0\n",
       "\\item[vehicle\\textbackslash{}\\_type\\textbackslash{}\\_code\\textbackslash{}\\_3] 0\n",
       "\\item[month] 0\n",
       "\\item[year] 0\n",
       "\\item[total\\textbackslash{}\\_injury] 0\n",
       "\\item[total\\textbackslash{}\\_casualty] 0\n",
       "\\item[total\\textbackslash{}\\_injuries\\textbackslash{}\\_deaths] 0\n",
       "\\end{description*}\n"
      ],
      "text/markdown": [
       "X\n",
       ":   0crash_date\n",
       ":   0crash_time\n",
       ":   0borough\n",
       ":   0zip_code\n",
       ":   393070latitude\n",
       ":   81212longitude\n",
       ":   81212number_of_persons_injured\n",
       ":   0number_of_persons_killed\n",
       ":   0number_of_pedestrians_injured\n",
       ":   0number_of_pedestrians_killed\n",
       ":   0number_of_cyclist_injured\n",
       ":   0number_of_cyclist_killed\n",
       ":   0number_of_motorist_injured\n",
       ":   0number_of_motorist_killed\n",
       ":   0contributing_factor_vehicle_1\n",
       ":   0contributing_factor_vehicle_2\n",
       ":   0contributing_factor_vehicle_3\n",
       ":   0collision_id\n",
       ":   0vehicle_type_code_1\n",
       ":   0vehicle_type_code_2\n",
       ":   0vehicle_type_code_3\n",
       ":   0month\n",
       ":   0year\n",
       ":   0total_injury\n",
       ":   0total_casualty\n",
       ":   0total_injuries_deaths\n",
       ":   0\n",
       "\n"
      ],
      "text/plain": [
       "                            X                    crash_date \n",
       "                            0                             0 \n",
       "                   crash_time                       borough \n",
       "                            0                             0 \n",
       "                     zip_code                      latitude \n",
       "                       393070                         81212 \n",
       "                    longitude     number_of_persons_injured \n",
       "                        81212                             0 \n",
       "     number_of_persons_killed number_of_pedestrians_injured \n",
       "                            0                             0 \n",
       " number_of_pedestrians_killed     number_of_cyclist_injured \n",
       "                            0                             0 \n",
       "     number_of_cyclist_killed    number_of_motorist_injured \n",
       "                            0                             0 \n",
       "    number_of_motorist_killed contributing_factor_vehicle_1 \n",
       "                            0                             0 \n",
       "contributing_factor_vehicle_2 contributing_factor_vehicle_3 \n",
       "                            0                             0 \n",
       "                 collision_id           vehicle_type_code_1 \n",
       "                            0                             0 \n",
       "          vehicle_type_code_2           vehicle_type_code_3 \n",
       "                            0                             0 \n",
       "                        month                          year \n",
       "                            0                             0 \n",
       "                 total_injury                total_casualty \n",
       "                            0                             0 \n",
       "        total_injuries_deaths \n",
       "                            0 "
      ]
     },
     "metadata": {},
     "output_type": "display_data"
    }
   ],
   "source": [
    "colSums(is.na(crash_data))"
   ]
  },
  {
   "cell_type": "code",
   "execution_count": 7,
   "id": "198f1878-5ff9-460f-bac2-e8195c8533fb",
   "metadata": {},
   "outputs": [
    {
     "data": {
      "text/html": [
       "<style>\n",
       ".list-inline {list-style: none; margin:0; padding: 0}\n",
       ".list-inline>li {display: inline-block}\n",
       ".list-inline>li:not(:last-child)::after {content: \"\\00b7\"; padding: 0 .5ex}\n",
       "</style>\n",
       "<ol class=list-inline><li>'X'</li><li>'crash_date'</li><li>'crash_time'</li><li>'borough'</li><li>'zip_code'</li><li>'latitude'</li><li>'longitude'</li><li>'number_of_persons_injured'</li><li>'number_of_persons_killed'</li><li>'number_of_pedestrians_injured'</li><li>'number_of_pedestrians_killed'</li><li>'number_of_cyclist_injured'</li><li>'number_of_cyclist_killed'</li><li>'number_of_motorist_injured'</li><li>'number_of_motorist_killed'</li><li>'contributing_factor_vehicle_1'</li><li>'contributing_factor_vehicle_2'</li><li>'contributing_factor_vehicle_3'</li><li>'collision_id'</li><li>'vehicle_type_code_1'</li><li>'vehicle_type_code_2'</li><li>'vehicle_type_code_3'</li><li>'month'</li><li>'year'</li><li>'total_injury'</li><li>'total_casualty'</li><li>'total_injuries_deaths'</li></ol>\n"
      ],
      "text/latex": [
       "\\begin{enumerate*}\n",
       "\\item 'X'\n",
       "\\item 'crash\\_date'\n",
       "\\item 'crash\\_time'\n",
       "\\item 'borough'\n",
       "\\item 'zip\\_code'\n",
       "\\item 'latitude'\n",
       "\\item 'longitude'\n",
       "\\item 'number\\_of\\_persons\\_injured'\n",
       "\\item 'number\\_of\\_persons\\_killed'\n",
       "\\item 'number\\_of\\_pedestrians\\_injured'\n",
       "\\item 'number\\_of\\_pedestrians\\_killed'\n",
       "\\item 'number\\_of\\_cyclist\\_injured'\n",
       "\\item 'number\\_of\\_cyclist\\_killed'\n",
       "\\item 'number\\_of\\_motorist\\_injured'\n",
       "\\item 'number\\_of\\_motorist\\_killed'\n",
       "\\item 'contributing\\_factor\\_vehicle\\_1'\n",
       "\\item 'contributing\\_factor\\_vehicle\\_2'\n",
       "\\item 'contributing\\_factor\\_vehicle\\_3'\n",
       "\\item 'collision\\_id'\n",
       "\\item 'vehicle\\_type\\_code\\_1'\n",
       "\\item 'vehicle\\_type\\_code\\_2'\n",
       "\\item 'vehicle\\_type\\_code\\_3'\n",
       "\\item 'month'\n",
       "\\item 'year'\n",
       "\\item 'total\\_injury'\n",
       "\\item 'total\\_casualty'\n",
       "\\item 'total\\_injuries\\_deaths'\n",
       "\\end{enumerate*}\n"
      ],
      "text/markdown": [
       "1. 'X'\n",
       "2. 'crash_date'\n",
       "3. 'crash_time'\n",
       "4. 'borough'\n",
       "5. 'zip_code'\n",
       "6. 'latitude'\n",
       "7. 'longitude'\n",
       "8. 'number_of_persons_injured'\n",
       "9. 'number_of_persons_killed'\n",
       "10. 'number_of_pedestrians_injured'\n",
       "11. 'number_of_pedestrians_killed'\n",
       "12. 'number_of_cyclist_injured'\n",
       "13. 'number_of_cyclist_killed'\n",
       "14. 'number_of_motorist_injured'\n",
       "15. 'number_of_motorist_killed'\n",
       "16. 'contributing_factor_vehicle_1'\n",
       "17. 'contributing_factor_vehicle_2'\n",
       "18. 'contributing_factor_vehicle_3'\n",
       "19. 'collision_id'\n",
       "20. 'vehicle_type_code_1'\n",
       "21. 'vehicle_type_code_2'\n",
       "22. 'vehicle_type_code_3'\n",
       "23. 'month'\n",
       "24. 'year'\n",
       "25. 'total_injury'\n",
       "26. 'total_casualty'\n",
       "27. 'total_injuries_deaths'\n",
       "\n",
       "\n"
      ],
      "text/plain": [
       " [1] \"X\"                             \"crash_date\"                   \n",
       " [3] \"crash_time\"                    \"borough\"                      \n",
       " [5] \"zip_code\"                      \"latitude\"                     \n",
       " [7] \"longitude\"                     \"number_of_persons_injured\"    \n",
       " [9] \"number_of_persons_killed\"      \"number_of_pedestrians_injured\"\n",
       "[11] \"number_of_pedestrians_killed\"  \"number_of_cyclist_injured\"    \n",
       "[13] \"number_of_cyclist_killed\"      \"number_of_motorist_injured\"   \n",
       "[15] \"number_of_motorist_killed\"     \"contributing_factor_vehicle_1\"\n",
       "[17] \"contributing_factor_vehicle_2\" \"contributing_factor_vehicle_3\"\n",
       "[19] \"collision_id\"                  \"vehicle_type_code_1\"          \n",
       "[21] \"vehicle_type_code_2\"           \"vehicle_type_code_3\"          \n",
       "[23] \"month\"                         \"year\"                         \n",
       "[25] \"total_injury\"                  \"total_casualty\"               \n",
       "[27] \"total_injuries_deaths\"        "
      ]
     },
     "metadata": {},
     "output_type": "display_data"
    }
   ],
   "source": [
    "names(crash_data)"
   ]
  },
  {
   "cell_type": "markdown",
   "id": "5e9b33b9-8d1e-44c0-9ce3-01b4a2a4ea33",
   "metadata": {},
   "source": [
    "### Feature Engineering"
   ]
  },
  {
   "cell_type": "code",
   "execution_count": 8,
   "id": "ba8f2453-318c-409c-bbe2-6b54627dad70",
   "metadata": {},
   "outputs": [],
   "source": [
    "# cleaning crash time\n",
    "crash_data$crash_time <- gsub(\"^([0-9]{1,2}):([0-9]{2}).*$\", \"\\\\1:\\\\2:00\", crash_data$crash_time)\n",
    "# Standardizing the format of crash_time (assuming it's in HH:MM format)\n",
    "crash_data$crash_datetime <- as.POSIXlt(paste(crash_data$crash_date, crash_data$crash_time), format = \"%Y-%m-%d %H:%M:%S\")\n",
    "\n",
    "# creating new column Time period based on rush hour at morning & evening\n",
    "crash_data$time_period <- factor(ifelse(format(crash_data$crash_datetime, \"%H:%M\") >= \"08:00\" & \n",
    "                                          format(crash_data$crash_datetime, \"%H:%M\") <= \"10:00\", \n",
    "                                        \"Morning Rush Hour\",\n",
    "                                        ifelse(format(crash_data$crash_datetime, \"%H:%M\") >= \"17:00\" &\n",
    "                                                 format(crash_data$crash_datetime, \"%H:%M\") <= \"19:00\", \n",
    "                                               \"Evening Rush Hour\", \n",
    "                                               \"Non Rush Hour\")), \n",
    "                                 levels = c(\"Morning Rush Hour\", \"Evening Rush Hour\", \"Non Rush Hour\"))\n"
   ]
  },
  {
   "cell_type": "code",
   "execution_count": 9,
   "id": "dd7e223e-9ede-46b2-bda7-5953bc4ea60e",
   "metadata": {},
   "outputs": [],
   "source": [
    "# Adding season across new york \n",
    "\n",
    "# Creating a vector with month-wise season mapping\n",
    "season_mapping <- c(Spring = c(3, 4, 5),\n",
    "                    Summer = c(6, 7, 8),\n",
    "                    Fall = c(9, 10, 11),\n",
    "                    Winter = c(12, 1, 2))\n",
    "\n",
    "# Function to map month to season\n",
    "get_season <- function(month) {\n",
    "  for (season in names(season_mapping)) {\n",
    "    if (month %in% season_mapping[[season]]) {\n",
    "      return(season)\n",
    "    }\n",
    "  }\n",
    "}\n",
    "\n",
    "crash_data$Season <- sapply(crash_data$month, get_season)\n",
    "crash_data$Season <- gsub(\"[0-9]\", \"\", crash_data$Season)\n"
   ]
  },
  {
   "cell_type": "code",
   "execution_count": 10,
   "id": "eba73e55-23e9-4e82-9b4b-0a53f0b14631",
   "metadata": {},
   "outputs": [
    {
     "data": {
      "text/html": [
       "<style>\n",
       ".list-inline {list-style: none; margin:0; padding: 0}\n",
       ".list-inline>li {display: inline-block}\n",
       ".list-inline>li:not(:last-child)::after {content: \"\\00b7\"; padding: 0 .5ex}\n",
       "</style>\n",
       "<ol class=list-inline><li>'Fall'</li><li>'Spring'</li><li>'Summer'</li><li>'Winter'</li></ol>\n"
      ],
      "text/latex": [
       "\\begin{enumerate*}\n",
       "\\item 'Fall'\n",
       "\\item 'Spring'\n",
       "\\item 'Summer'\n",
       "\\item 'Winter'\n",
       "\\end{enumerate*}\n"
      ],
      "text/markdown": [
       "1. 'Fall'\n",
       "2. 'Spring'\n",
       "3. 'Summer'\n",
       "4. 'Winter'\n",
       "\n",
       "\n"
      ],
      "text/plain": [
       "[1] \"Fall\"   \"Spring\" \"Summer\" \"Winter\""
      ]
     },
     "metadata": {},
     "output_type": "display_data"
    }
   ],
   "source": [
    "unique(crash_data$Season)"
   ]
  },
  {
   "cell_type": "code",
   "execution_count": 11,
   "id": "923384dd-0889-4cff-a941-74484ff6c9d2",
   "metadata": {},
   "outputs": [],
   "source": [
    "#  grouping contributing factors  \n",
    "\n",
    "grouped_factors <- case_when(\n",
    "  grepl(\"Aggressive Driving|Rage|Following Too Closely|Inexperience|Passing|Turning|Unsafe Lane|Reaction|Inattention|Pedestrian|Failure to Yield|Illness|Lost Consciousness|Fell Asleep|Animals|Fatigued|Physical Disability|Eating or Drinking|Texting|Listening\", crash_data$contributing_factor_vehicle_1) ~ \"Human Error\",\n",
    "  grepl(\"Brakes|Steering|Accelerator|Tire|Headlights|Windshield|Shoulders|Tow Hitch\", crash_data$contributing_factor_vehicle_1) ~ \"Vehicle-related Issues\",\n",
    "  grepl(\"Pavement|Glare|Obstruction|Lighting\", crash_data$contributing_factor_vehicle_1) ~ \"Environmental Factors\",\n",
    "  grepl(\"Alcohol|Drugs|Prescription Medication\", crash_data$contributing_factor_vehicle_1) ~ \"Substance Use\",\n",
    "  grepl(\"Cell Phone|Navigation|Electronic Device\", crash_data$contributing_factor_vehicle_1) ~ \"Technology-related\",\n",
    "  TRUE ~ \"Miscellaneous\"\n",
    ")\n",
    "\n",
    "crash_data$grouped_factor_vehicle_contribution <- grouped_factors"
   ]
  },
  {
   "cell_type": "code",
   "execution_count": 12,
   "id": "4a1ae802-1759-47dc-9091-e0506043a79d",
   "metadata": {},
   "outputs": [],
   "source": [
    "# Grouping vehicle type\n",
    "crash_data$vehicle_type_code_1 <- tolower(crash_data$vehicle_type_code_1)\n",
    "\n",
    "\n",
    "category_mapping <- list(\n",
    "  \"Passenger Vehicles\" = c(\n",
    "    \"sedan\", \"sport utility vehicle\", \"convertible\", \"van\", \"pick-up truck\", \"motorcycle\", \n",
    "    \"bike\", \"e-bike\", \"motorscooter\", \"e-scooter\", \"moped\", \"scooter\", \"taxi\",\"motorbike\"\n",
    "  ),\n",
    "  \"Commercial Vehicles\" = c(\n",
    "    \"dump\", \"tanker\", \"bus\", \"box truck\", \"garbage or refuse\", \"tractor truck diesel\",\"beverage truck\",\n",
    "    \"flat bed\", \"tow truck / wrecker\", \"ambulance\", \"trailer\", \"school bus\", \"fire truck\"\n",
    "  ),\n",
    "  \"Other Vehicles\" = c(\n",
    "     \"utility\", \"ï¿½mbu\", \"pk\", \"carry all\", \"fdny ambul\", \"3-door\", \n",
    "    \"semi trail\", \"tow truck\", \"unknown\", \"trailer\", \"lunch wagon\", \"flat rack\", \n",
    "    \"unk\", \"uspcs\", \"tractor truck gasoline\", \"garbage tr\", \"minicycle\",  \n",
    "    \"lift boom\", \"cater\", \"pkup\"\n",
    "  )\n",
    ")\n",
    "\n",
    "# Function to categorize vehicle types\n",
    "categorize_vehicle <- function(vehicle_type) {\n",
    "  vehicle_type <- tolower(vehicle_type)  # Convert to lowercase\n",
    "  for (cat in names(category_mapping)) {\n",
    "    if (vehicle_type %in% category_mapping[[cat]]) {\n",
    "      return(cat)\n",
    "    }\n",
    "  }\n",
    "  return(\"Other\")\n",
    "}\n",
    "\n",
    "crash_data <- crash_data %>% \n",
    "  mutate(vehicle_category = sapply(vehicle_type_code_1, categorize_vehicle))\n"
   ]
  },
  {
   "cell_type": "code",
   "execution_count": 13,
   "id": "a3496344-aa7a-4ccc-ab39-d06e69dfa26b",
   "metadata": {},
   "outputs": [],
   "source": [
    "# creating feature pedestrian involved\n",
    "crash_data <- crash_data %>% \n",
    "  mutate(pedestrian_involved = ifelse(number_of_pedestrians_injured > 0 | number_of_pedestrians_killed > 0, 1, 0))\n"
   ]
  },
  {
   "cell_type": "code",
   "execution_count": 14,
   "id": "46299081-0722-4fe3-9121-d9e1f55f85c1",
   "metadata": {},
   "outputs": [],
   "source": [
    "# creating feature cyclist involved\n",
    "crash_data <- crash_data %>% \n",
    "  mutate(cyclist_involved = ifelse(number_of_cyclist_injured > 0 | number_of_cyclist_killed > 0, 1, 0))\n"
   ]
  },
  {
   "cell_type": "code",
   "execution_count": 15,
   "id": "2bcc3bd7-fa5c-427a-a623-bb17e2d65cdd",
   "metadata": {},
   "outputs": [],
   "source": [
    "# creating feature motorist involved\n",
    "crash_data <- crash_data %>% \n",
    "  mutate(motorist_involved = ifelse(number_of_motorist_injured > 0 | number_of_motorist_killed > 0, 1, 0))\n"
   ]
  },
  {
   "cell_type": "code",
   "execution_count": 16,
   "id": "98aeb7ec-545e-4419-b8d1-5fbfff2a415d",
   "metadata": {},
   "outputs": [
    {
     "data": {
      "text/html": [
       "21"
      ],
      "text/latex": [
       "21"
      ],
      "text/markdown": [
       "21"
      ],
      "text/plain": [
       "[1] 21"
      ]
     },
     "metadata": {},
     "output_type": "display_data"
    }
   ],
   "source": [
    "numeric_cols <- names(crash_data[sapply(crash_data, is.numeric)])\n",
    "length(numeric_cols)"
   ]
  },
  {
   "cell_type": "code",
   "execution_count": 17,
   "id": "b7d2319c-219e-4d6b-ac34-ad8df73faf2e",
   "metadata": {},
   "outputs": [
    {
     "data": {
      "text/html": [
       "<style>\n",
       ".list-inline {list-style: none; margin:0; padding: 0}\n",
       ".list-inline>li {display: inline-block}\n",
       ".list-inline>li:not(:last-child)::after {content: \"\\00b7\"; padding: 0 .5ex}\n",
       "</style>\n",
       "<ol class=list-inline><li>'X'</li><li>'zip_code'</li><li>'latitude'</li><li>'longitude'</li><li>'number_of_persons_injured'</li><li>'number_of_persons_killed'</li><li>'number_of_pedestrians_injured'</li><li>'number_of_pedestrians_killed'</li><li>'number_of_cyclist_injured'</li><li>'number_of_cyclist_killed'</li><li>'number_of_motorist_injured'</li><li>'number_of_motorist_killed'</li><li>'collision_id'</li><li>'month'</li><li>'year'</li><li>'total_injury'</li><li>'total_casualty'</li><li>'total_injuries_deaths'</li><li>'pedestrian_involved'</li><li>'cyclist_involved'</li><li>'motorist_involved'</li></ol>\n"
      ],
      "text/latex": [
       "\\begin{enumerate*}\n",
       "\\item 'X'\n",
       "\\item 'zip\\_code'\n",
       "\\item 'latitude'\n",
       "\\item 'longitude'\n",
       "\\item 'number\\_of\\_persons\\_injured'\n",
       "\\item 'number\\_of\\_persons\\_killed'\n",
       "\\item 'number\\_of\\_pedestrians\\_injured'\n",
       "\\item 'number\\_of\\_pedestrians\\_killed'\n",
       "\\item 'number\\_of\\_cyclist\\_injured'\n",
       "\\item 'number\\_of\\_cyclist\\_killed'\n",
       "\\item 'number\\_of\\_motorist\\_injured'\n",
       "\\item 'number\\_of\\_motorist\\_killed'\n",
       "\\item 'collision\\_id'\n",
       "\\item 'month'\n",
       "\\item 'year'\n",
       "\\item 'total\\_injury'\n",
       "\\item 'total\\_casualty'\n",
       "\\item 'total\\_injuries\\_deaths'\n",
       "\\item 'pedestrian\\_involved'\n",
       "\\item 'cyclist\\_involved'\n",
       "\\item 'motorist\\_involved'\n",
       "\\end{enumerate*}\n"
      ],
      "text/markdown": [
       "1. 'X'\n",
       "2. 'zip_code'\n",
       "3. 'latitude'\n",
       "4. 'longitude'\n",
       "5. 'number_of_persons_injured'\n",
       "6. 'number_of_persons_killed'\n",
       "7. 'number_of_pedestrians_injured'\n",
       "8. 'number_of_pedestrians_killed'\n",
       "9. 'number_of_cyclist_injured'\n",
       "10. 'number_of_cyclist_killed'\n",
       "11. 'number_of_motorist_injured'\n",
       "12. 'number_of_motorist_killed'\n",
       "13. 'collision_id'\n",
       "14. 'month'\n",
       "15. 'year'\n",
       "16. 'total_injury'\n",
       "17. 'total_casualty'\n",
       "18. 'total_injuries_deaths'\n",
       "19. 'pedestrian_involved'\n",
       "20. 'cyclist_involved'\n",
       "21. 'motorist_involved'\n",
       "\n",
       "\n"
      ],
      "text/plain": [
       " [1] \"X\"                             \"zip_code\"                     \n",
       " [3] \"latitude\"                      \"longitude\"                    \n",
       " [5] \"number_of_persons_injured\"     \"number_of_persons_killed\"     \n",
       " [7] \"number_of_pedestrians_injured\" \"number_of_pedestrians_killed\" \n",
       " [9] \"number_of_cyclist_injured\"     \"number_of_cyclist_killed\"     \n",
       "[11] \"number_of_motorist_injured\"    \"number_of_motorist_killed\"    \n",
       "[13] \"collision_id\"                  \"month\"                        \n",
       "[15] \"year\"                          \"total_injury\"                 \n",
       "[17] \"total_casualty\"                \"total_injuries_deaths\"        \n",
       "[19] \"pedestrian_involved\"           \"cyclist_involved\"             \n",
       "[21] \"motorist_involved\"            "
      ]
     },
     "metadata": {},
     "output_type": "display_data"
    }
   ],
   "source": [
    "numeric_cols"
   ]
  },
  {
   "cell_type": "code",
   "execution_count": 18,
   "id": "ed4cbe3b-d554-4770-88d1-fabf08fcd7a3",
   "metadata": {},
   "outputs": [],
   "source": [
    "# filling blank borough with random values\n",
    "unique_values <- unique(crash_data$borough)\n",
    "\n",
    "# Removing empty strings from unique values\n",
    "unique_values <- unique_values[unique_values != \"\"]\n",
    "\n",
    "# Replacing empty strings with random values from unique values\n",
    "crash_data$borough[crash_data$borough == \"\"] <- sample(unique_values, sum(crash_data$borough == \"\"), replace = TRUE)\n"
   ]
  },
  {
   "cell_type": "code",
   "execution_count": 19,
   "id": "d3df3102-7b00-4a09-9abc-ef6487ba337c",
   "metadata": {},
   "outputs": [
    {
     "data": {
      "text/html": [
       "<style>\n",
       ".list-inline {list-style: none; margin:0; padding: 0}\n",
       ".list-inline>li {display: inline-block}\n",
       ".list-inline>li:not(:last-child)::after {content: \"\\00b7\"; padding: 0 .5ex}\n",
       "</style>\n",
       "<ol class=list-inline><li>'MANHATTAN'</li><li>'BRONX'</li><li>'BROOKLYN'</li><li>'STATEN ISLAND'</li><li>'QUEENS'</li></ol>\n"
      ],
      "text/latex": [
       "\\begin{enumerate*}\n",
       "\\item 'MANHATTAN'\n",
       "\\item 'BRONX'\n",
       "\\item 'BROOKLYN'\n",
       "\\item 'STATEN ISLAND'\n",
       "\\item 'QUEENS'\n",
       "\\end{enumerate*}\n"
      ],
      "text/markdown": [
       "1. 'MANHATTAN'\n",
       "2. 'BRONX'\n",
       "3. 'BROOKLYN'\n",
       "4. 'STATEN ISLAND'\n",
       "5. 'QUEENS'\n",
       "\n",
       "\n"
      ],
      "text/plain": [
       "[1] \"MANHATTAN\"     \"BRONX\"         \"BROOKLYN\"      \"STATEN ISLAND\"\n",
       "[5] \"QUEENS\"       "
      ]
     },
     "metadata": {},
     "output_type": "display_data"
    }
   ],
   "source": [
    "unique(crash_data$borough)"
   ]
  },
  {
   "cell_type": "code",
   "execution_count": 20,
   "id": "f9e12192-319a-47ab-baba-fb18809de175",
   "metadata": {},
   "outputs": [],
   "source": [
    "# let's rename the columns \n",
    "crash_data <- crash_data %>% rename(\n",
    "  accident_factor = grouped_factor_vehicle_contribution,\n",
    "  total_victims = total_injuries_deaths\n",
    ")\n"
   ]
  },
  {
   "cell_type": "code",
   "execution_count": 21,
   "id": "d0fd3727-9f95-47f8-8e20-1ad939231804",
   "metadata": {},
   "outputs": [
    {
     "data": {
      "text/html": [
       "<style>\n",
       ".list-inline {list-style: none; margin:0; padding: 0}\n",
       ".list-inline>li {display: inline-block}\n",
       ".list-inline>li:not(:last-child)::after {content: \"\\00b7\"; padding: 0 .5ex}\n",
       "</style>\n",
       "<ol class=list-inline><li>'X'</li><li>'crash_date'</li><li>'crash_time'</li><li>'borough'</li><li>'zip_code'</li><li>'latitude'</li><li>'longitude'</li><li>'number_of_persons_injured'</li><li>'number_of_persons_killed'</li><li>'number_of_pedestrians_injured'</li><li>'number_of_pedestrians_killed'</li><li>'number_of_cyclist_injured'</li><li>'number_of_cyclist_killed'</li><li>'number_of_motorist_injured'</li><li>'number_of_motorist_killed'</li><li>'contributing_factor_vehicle_1'</li><li>'contributing_factor_vehicle_2'</li><li>'contributing_factor_vehicle_3'</li><li>'collision_id'</li><li>'vehicle_type_code_1'</li><li>'vehicle_type_code_2'</li><li>'vehicle_type_code_3'</li><li>'month'</li><li>'year'</li><li>'total_injury'</li><li>'total_casualty'</li><li>'total_victims'</li><li>'crash_datetime'</li><li>'time_period'</li><li>'Season'</li><li>'accident_factor'</li><li>'vehicle_category'</li><li>'pedestrian_involved'</li><li>'cyclist_involved'</li><li>'motorist_involved'</li></ol>\n"
      ],
      "text/latex": [
       "\\begin{enumerate*}\n",
       "\\item 'X'\n",
       "\\item 'crash\\_date'\n",
       "\\item 'crash\\_time'\n",
       "\\item 'borough'\n",
       "\\item 'zip\\_code'\n",
       "\\item 'latitude'\n",
       "\\item 'longitude'\n",
       "\\item 'number\\_of\\_persons\\_injured'\n",
       "\\item 'number\\_of\\_persons\\_killed'\n",
       "\\item 'number\\_of\\_pedestrians\\_injured'\n",
       "\\item 'number\\_of\\_pedestrians\\_killed'\n",
       "\\item 'number\\_of\\_cyclist\\_injured'\n",
       "\\item 'number\\_of\\_cyclist\\_killed'\n",
       "\\item 'number\\_of\\_motorist\\_injured'\n",
       "\\item 'number\\_of\\_motorist\\_killed'\n",
       "\\item 'contributing\\_factor\\_vehicle\\_1'\n",
       "\\item 'contributing\\_factor\\_vehicle\\_2'\n",
       "\\item 'contributing\\_factor\\_vehicle\\_3'\n",
       "\\item 'collision\\_id'\n",
       "\\item 'vehicle\\_type\\_code\\_1'\n",
       "\\item 'vehicle\\_type\\_code\\_2'\n",
       "\\item 'vehicle\\_type\\_code\\_3'\n",
       "\\item 'month'\n",
       "\\item 'year'\n",
       "\\item 'total\\_injury'\n",
       "\\item 'total\\_casualty'\n",
       "\\item 'total\\_victims'\n",
       "\\item 'crash\\_datetime'\n",
       "\\item 'time\\_period'\n",
       "\\item 'Season'\n",
       "\\item 'accident\\_factor'\n",
       "\\item 'vehicle\\_category'\n",
       "\\item 'pedestrian\\_involved'\n",
       "\\item 'cyclist\\_involved'\n",
       "\\item 'motorist\\_involved'\n",
       "\\end{enumerate*}\n"
      ],
      "text/markdown": [
       "1. 'X'\n",
       "2. 'crash_date'\n",
       "3. 'crash_time'\n",
       "4. 'borough'\n",
       "5. 'zip_code'\n",
       "6. 'latitude'\n",
       "7. 'longitude'\n",
       "8. 'number_of_persons_injured'\n",
       "9. 'number_of_persons_killed'\n",
       "10. 'number_of_pedestrians_injured'\n",
       "11. 'number_of_pedestrians_killed'\n",
       "12. 'number_of_cyclist_injured'\n",
       "13. 'number_of_cyclist_killed'\n",
       "14. 'number_of_motorist_injured'\n",
       "15. 'number_of_motorist_killed'\n",
       "16. 'contributing_factor_vehicle_1'\n",
       "17. 'contributing_factor_vehicle_2'\n",
       "18. 'contributing_factor_vehicle_3'\n",
       "19. 'collision_id'\n",
       "20. 'vehicle_type_code_1'\n",
       "21. 'vehicle_type_code_2'\n",
       "22. 'vehicle_type_code_3'\n",
       "23. 'month'\n",
       "24. 'year'\n",
       "25. 'total_injury'\n",
       "26. 'total_casualty'\n",
       "27. 'total_victims'\n",
       "28. 'crash_datetime'\n",
       "29. 'time_period'\n",
       "30. 'Season'\n",
       "31. 'accident_factor'\n",
       "32. 'vehicle_category'\n",
       "33. 'pedestrian_involved'\n",
       "34. 'cyclist_involved'\n",
       "35. 'motorist_involved'\n",
       "\n",
       "\n"
      ],
      "text/plain": [
       " [1] \"X\"                             \"crash_date\"                   \n",
       " [3] \"crash_time\"                    \"borough\"                      \n",
       " [5] \"zip_code\"                      \"latitude\"                     \n",
       " [7] \"longitude\"                     \"number_of_persons_injured\"    \n",
       " [9] \"number_of_persons_killed\"      \"number_of_pedestrians_injured\"\n",
       "[11] \"number_of_pedestrians_killed\"  \"number_of_cyclist_injured\"    \n",
       "[13] \"number_of_cyclist_killed\"      \"number_of_motorist_injured\"   \n",
       "[15] \"number_of_motorist_killed\"     \"contributing_factor_vehicle_1\"\n",
       "[17] \"contributing_factor_vehicle_2\" \"contributing_factor_vehicle_3\"\n",
       "[19] \"collision_id\"                  \"vehicle_type_code_1\"          \n",
       "[21] \"vehicle_type_code_2\"           \"vehicle_type_code_3\"          \n",
       "[23] \"month\"                         \"year\"                         \n",
       "[25] \"total_injury\"                  \"total_casualty\"               \n",
       "[27] \"total_victims\"                 \"crash_datetime\"               \n",
       "[29] \"time_period\"                   \"Season\"                       \n",
       "[31] \"accident_factor\"               \"vehicle_category\"             \n",
       "[33] \"pedestrian_involved\"           \"cyclist_involved\"             \n",
       "[35] \"motorist_involved\"            "
      ]
     },
     "metadata": {},
     "output_type": "display_data"
    }
   ],
   "source": [
    "names(crash_data)"
   ]
  },
  {
   "cell_type": "code",
   "execution_count": 22,
   "id": "f36c5aa9-85e4-4aee-99c5-b5e3742c06e9",
   "metadata": {},
   "outputs": [],
   "source": [
    "imp_feats <-  c(\"borough\", \"month\", \"time_period\", \"Season\", \"accident_factor\", \n",
    "                    \"vehicle_category\", \"pedestrian_involved\", \"cyclist_involved\", \n",
    "                    \"motorist_involved\", \"total_victims\")"
   ]
  },
  {
   "cell_type": "code",
   "execution_count": 23,
   "id": "1a253356-5498-4785-8ff1-820a6cfa8e81",
   "metadata": {},
   "outputs": [],
   "source": [
    "# Saving data in parquet format for fast operations\n",
    "# write_parquet(crash_data[,imp_feats], \"model_data.parquet\")"
   ]
  },
  {
   "cell_type": "code",
   "execution_count": null,
   "id": "dabf38da-8b8f-463f-8641-83e69055499d",
   "metadata": {},
   "outputs": [],
   "source": []
  },
  {
   "cell_type": "code",
   "execution_count": null,
   "id": "6d10380d-44ed-4eac-8469-4fc5994de53d",
   "metadata": {},
   "outputs": [],
   "source": []
  }
 ],
 "metadata": {
  "kernelspec": {
   "display_name": "R",
   "language": "R",
   "name": "ir"
  },
  "language_info": {
   "codemirror_mode": "r",
   "file_extension": ".r",
   "mimetype": "text/x-r-source",
   "name": "R",
   "pygments_lexer": "r",
   "version": "4.1.3"
  }
 },
 "nbformat": 4,
 "nbformat_minor": 5
}
