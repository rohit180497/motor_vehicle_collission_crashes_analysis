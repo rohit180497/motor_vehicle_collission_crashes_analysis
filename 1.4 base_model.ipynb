{
 "cells": [
  {
   "cell_type": "markdown",
   "id": "d9104539-4219-48c4-8acf-8ab94565fd0e",
   "metadata": {},
   "source": [
    "\n",
    "<BR>\n",
    "<CENTER>\n",
    "<FONT SIZE = 4, COLOR=\"#2C32C3\">\n",
    "<BR><B>Northeastern University</B>\n",
    "<BR><B><font size=4, color=black>Husky-3,</BR>\n",
    "ALY6010 Prob Theory and Intro Stats</B>\n",
    " <BR> Motor Vehicle Collision Analysis in New York(2017-2023)\n",
    "<BR> Final Project\n",
    "<BR> Rohit Kosamkar, Sapna Chavan, Leena Doultani, Soumya Guliyan, Aliha Ansari, Baudhik Kevadiya\n",
    "<BR><font size=4, color=dark red> Date: 03.25.2024\n",
    "</FONT>\n",
    "</CENTER>"
   ]
  },
  {
   "cell_type": "code",
   "execution_count": 2,
   "id": "75e90f9a-264c-4239-881a-d1a525f6b10a",
   "metadata": {
    "vscode": {
     "languageId": "r"
    }
   },
   "outputs": [],
   "source": [
    "# Importing important libraries\n",
    "library(parallel)\n",
    "library(dplyr)\n",
    "library(arrow)\n",
    "library(ggplot2)\n",
    "library(corrplot)\n",
    "library(caret)\n",
    "library(car)\n",
    "library(fastDummies)\n",
    "set.seed(123)\n",
    "library(leaps)\n",
    "library(data.table)"
   ]
  },
  {
   "cell_type": "markdown",
   "id": "a6c8b28c-33c2-4885-ae63-8c3ae8f1074d",
   "metadata": {},
   "source": [
    "### Target definition"
   ]
  },
  {
   "cell_type": "raw",
   "id": "fd655e69-bf79-4639-9de9-7c3edbe5fa76",
   "metadata": {},
   "source": [
    "Problem Definition: Predicting the Total Number of Victims in Traffic Accidents\n",
    "\n",
    "Objective: Develop a predictive model to estimate the total number of victims involved in traffic accidents based on various factors related to the accident.\n",
    "\n",
    "Data Description:\n",
    "\n",
    "Dependent Variable (Target): Total Victims - The total count of victims involved in each traffic accident.\n",
    "Independent Variables (Features):\n",
    "Borough: The borough where the accident occurred.\n",
    "Month: The month when the accident took place.\n",
    "Time Period: Whether the accident occurred during rush hours or non-rush hours.\n",
    "Season: The season when the accident happened.\n",
    "Accident Factor: Factors contributing to the accident (e.g., human error, substance use, vehicle-related issues).\n",
    "Vehicle Category: Types of vehicles involved in the accident.\n",
    "Pedestrian Involved: Indicator variable for pedestrian involvement in the accident.\n",
    "Cyclist Involved: Indicator variable for cyclist involvement in the accident.\n",
    "Motorist Involved: Indicator variable for motorist involvement in t\n",
    "\n",
    "Importance: Accurate prediction of the total number of victims in traffic accidents can assist policymakers, law enforcement agencies, and urban planners in implementing effective measures to improve road safety, allocate resources efficiently, and reduce the frequency and severity of accidents in different regions and conditions.he accident."
   ]
  },
  {
   "cell_type": "markdown",
   "id": "6f337cc0-2059-488c-80bf-35889d93dbe2",
   "metadata": {},
   "source": [
    "### Data loading"
   ]
  },
  {
   "cell_type": "code",
   "execution_count": 3,
   "id": "30d8e150-6471-4e81-bc13-59f4be5442e5",
   "metadata": {
    "vscode": {
     "languageId": "r"
    }
   },
   "outputs": [
    {
     "data": {
      "text/html": [
       "<style>\n",
       ".list-inline {list-style: none; margin:0; padding: 0}\n",
       ".list-inline>li {display: inline-block}\n",
       ".list-inline>li:not(:last-child)::after {content: \"\\00b7\"; padding: 0 .5ex}\n",
       "</style>\n",
       "<ol class=list-inline><li>1110808</li><li>10</li></ol>\n"
      ],
      "text/latex": [
       "\\begin{enumerate*}\n",
       "\\item 1110808\n",
       "\\item 10\n",
       "\\end{enumerate*}\n"
      ],
      "text/markdown": [
       "1. 1110808\n",
       "2. 10\n",
       "\n",
       "\n"
      ],
      "text/plain": [
       "[1] 1110808      10"
      ]
     },
     "metadata": {},
     "output_type": "display_data"
    }
   ],
   "source": [
    "# Loading model data \n",
    "df_cln <- read_parquet(\"model_data.parquet\")\n",
    "dim(df_cln)"
   ]
  },
  {
   "cell_type": "code",
   "execution_count": 4,
   "id": "cecf6ca5-6e90-4068-9a87-b34d9ab62719",
   "metadata": {
    "vscode": {
     "languageId": "r"
    }
   },
   "outputs": [
    {
     "data": {
      "text/html": [
       "<style>\n",
       ".list-inline {list-style: none; margin:0; padding: 0}\n",
       ".list-inline>li {display: inline-block}\n",
       ".list-inline>li:not(:last-child)::after {content: \"\\00b7\"; padding: 0 .5ex}\n",
       "</style>\n",
       "<ol class=list-inline><li>'month'</li><li>'pedestrian_involved'</li><li>'cyclist_involved'</li><li>'motorist_involved'</li><li>'total_victims'</li></ol>\n"
      ],
      "text/latex": [
       "\\begin{enumerate*}\n",
       "\\item 'month'\n",
       "\\item 'pedestrian\\_involved'\n",
       "\\item 'cyclist\\_involved'\n",
       "\\item 'motorist\\_involved'\n",
       "\\item 'total\\_victims'\n",
       "\\end{enumerate*}\n"
      ],
      "text/markdown": [
       "1. 'month'\n",
       "2. 'pedestrian_involved'\n",
       "3. 'cyclist_involved'\n",
       "4. 'motorist_involved'\n",
       "5. 'total_victims'\n",
       "\n",
       "\n"
      ],
      "text/plain": [
       "[1] \"month\"               \"pedestrian_involved\" \"cyclist_involved\"   \n",
       "[4] \"motorist_involved\"   \"total_victims\"      "
      ]
     },
     "metadata": {},
     "output_type": "display_data"
    }
   ],
   "source": [
    "numeric_cols <- df_cln[sapply(df_cln, is.numeric)]\n",
    "names(numeric_cols)"
   ]
  },
  {
   "cell_type": "code",
   "execution_count": 5,
   "id": "94f03958-d335-47d5-8f0a-3cbd6143b632",
   "metadata": {
    "vscode": {
     "languageId": "r"
    }
   },
   "outputs": [
    {
     "data": {
      "text/html": [
       "<style>\n",
       ".list-inline {list-style: none; margin:0; padding: 0}\n",
       ".list-inline>li {display: inline-block}\n",
       ".list-inline>li:not(:last-child)::after {content: \"\\00b7\"; padding: 0 .5ex}\n",
       "</style>\n",
       "<ol class=list-inline><li>'borough'</li><li>'month'</li><li>'time_period'</li><li>'Season'</li><li>'accident_factor'</li><li>'vehicle_category'</li><li>'pedestrian_involved'</li><li>'cyclist_involved'</li><li>'motorist_involved'</li><li>'total_victims'</li></ol>\n"
      ],
      "text/latex": [
       "\\begin{enumerate*}\n",
       "\\item 'borough'\n",
       "\\item 'month'\n",
       "\\item 'time\\_period'\n",
       "\\item 'Season'\n",
       "\\item 'accident\\_factor'\n",
       "\\item 'vehicle\\_category'\n",
       "\\item 'pedestrian\\_involved'\n",
       "\\item 'cyclist\\_involved'\n",
       "\\item 'motorist\\_involved'\n",
       "\\item 'total\\_victims'\n",
       "\\end{enumerate*}\n"
      ],
      "text/markdown": [
       "1. 'borough'\n",
       "2. 'month'\n",
       "3. 'time_period'\n",
       "4. 'Season'\n",
       "5. 'accident_factor'\n",
       "6. 'vehicle_category'\n",
       "7. 'pedestrian_involved'\n",
       "8. 'cyclist_involved'\n",
       "9. 'motorist_involved'\n",
       "10. 'total_victims'\n",
       "\n",
       "\n"
      ],
      "text/plain": [
       " [1] \"borough\"             \"month\"               \"time_period\"        \n",
       " [4] \"Season\"              \"accident_factor\"     \"vehicle_category\"   \n",
       " [7] \"pedestrian_involved\" \"cyclist_involved\"    \"motorist_involved\"  \n",
       "[10] \"total_victims\"      "
      ]
     },
     "metadata": {},
     "output_type": "display_data"
    }
   ],
   "source": [
    "names(df_cln)"
   ]
  },
  {
   "cell_type": "markdown",
   "id": "f471d574-a2b2-4723-afb3-ce7db8adc39c",
   "metadata": {},
   "source": [
    "### Correlation Matrix"
   ]
  },
  {
   "cell_type": "code",
   "execution_count": 6,
   "id": "dcb41107-b1e9-44c5-ae6e-75ecf4992c38",
   "metadata": {
    "vscode": {
     "languageId": "r"
    }
   },
   "outputs": [
    {
     "data": {
      "image/png": "[encoded data removed]",
      "text/plain": [
       "Plot with title \"\""
      ]
     },
     "metadata": {
      "image/png": {
       "height": 420,
       "width": 420
      }
     },
     "output_type": "display_data"
    }
   ],
   "source": [
    "# Calculating correlation matrix for numeric features\n",
    "cor_matrix <- cor(numeric_cols[,1:4])\n",
    "# Let's plot correlation matrix for better visualization\n",
    "corrplot(cor_matrix, method = \"color\")"
   ]
  },
  {
   "cell_type": "code",
   "execution_count": 7,
   "id": "c14ee899-2a56-40d0-8ed7-e0d4cbab0364",
   "metadata": {
    "vscode": {
     "languageId": "r"
    }
   },
   "outputs": [
    {
     "data": {
      "text/html": [
       "<table class=\"dataframe\">\n",
       "<caption>A matrix: 4 × 4 of type dbl</caption>\n",
       "<thead>\n",
       "\t<tr><th></th><th scope=col>month</th><th scope=col>pedestrian_involved</th><th scope=col>cyclist_involved</th><th scope=col>motorist_involved</th></tr>\n",
       "</thead>\n",
       "<tbody>\n",
       "\t<tr><th scope=row>month</th><td>1.000000000</td><td> 0.006469457</td><td> 0.02449612</td><td> 0.01356967</td></tr>\n",
       "\t<tr><th scope=row>pedestrian_involved</th><td>0.006469457</td><td> 1.000000000</td><td>-0.03791336</td><td>-0.10106264</td></tr>\n",
       "\t<tr><th scope=row>cyclist_involved</th><td>0.024496123</td><td>-0.037913364</td><td> 1.00000000</td><td>-0.07693681</td></tr>\n",
       "\t<tr><th scope=row>motorist_involved</th><td>0.013569670</td><td>-0.101062635</td><td>-0.07693681</td><td> 1.00000000</td></tr>\n",
       "</tbody>\n",
       "</table>\n"
      ],
      "text/latex": [
       "A matrix: 4 × 4 of type dbl\n",
       "\\begin{tabular}{r|llll}\n",
       "  & month & pedestrian\\_involved & cyclist\\_involved & motorist\\_involved\\\\\n",
       "\\hline\n",
       "\tmonth & 1.000000000 &  0.006469457 &  0.02449612 &  0.01356967\\\\\n",
       "\tpedestrian\\_involved & 0.006469457 &  1.000000000 & -0.03791336 & -0.10106264\\\\\n",
       "\tcyclist\\_involved & 0.024496123 & -0.037913364 &  1.00000000 & -0.07693681\\\\\n",
       "\tmotorist\\_involved & 0.013569670 & -0.101062635 & -0.07693681 &  1.00000000\\\\\n",
       "\\end{tabular}\n"
      ],
      "text/markdown": [
       "\n",
       "A matrix: 4 × 4 of type dbl\n",
       "\n",
       "| <!--/--> | month | pedestrian_involved | cyclist_involved | motorist_involved |\n",
       "|---|---|---|---|---|\n",
       "| month | 1.000000000 |  0.006469457 |  0.02449612 |  0.01356967 |\n",
       "| pedestrian_involved | 0.006469457 |  1.000000000 | -0.03791336 | -0.10106264 |\n",
       "| cyclist_involved | 0.024496123 | -0.037913364 |  1.00000000 | -0.07693681 |\n",
       "| motorist_involved | 0.013569670 | -0.101062635 | -0.07693681 |  1.00000000 |\n",
       "\n"
      ],
      "text/plain": [
       "                    month       pedestrian_involved cyclist_involved\n",
       "month               1.000000000  0.006469457         0.02449612     \n",
       "pedestrian_involved 0.006469457  1.000000000        -0.03791336     \n",
       "cyclist_involved    0.024496123 -0.037913364         1.00000000     \n",
       "motorist_involved   0.013569670 -0.101062635        -0.07693681     \n",
       "                    motorist_involved\n",
       "month                0.01356967      \n",
       "pedestrian_involved -0.10106264      \n",
       "cyclist_involved    -0.07693681      \n",
       "motorist_involved    1.00000000      "
      ]
     },
     "metadata": {},
     "output_type": "display_data"
    }
   ],
   "source": [
    "cor_matrix"
   ]
  },
  {
   "cell_type": "markdown",
   "id": "24458f12-a419-40a2-b0d7-79c64ab2ea80",
   "metadata": {},
   "source": [
    "**Interpretation:** \n",
    "\n",
    "There is a very weak positive correlation between the month and pedestrian involvement in accidents (correlation coefficient = 0.006).\n",
    "There is a weak negative correlation between the month and cyclist involvement in accidents (correlation coefficient = -0.038).\n",
    "There is a weak positive correlation between the month and motorist involvement in accidents (correlation coefficient = 0.014).\n",
    "There is a weak negative correlation between pedestrian involvement and cyclist involvement in accidents (correlation coefficient = -0.038).\n",
    "There is a weak negative correlation between pedestrian involvement and motorist involvement in accidents (correlation coefficient = -0.101).\n",
    "There is a weak negative correlation between cyclist involvement and motorist involvement in accidents (correlation coefficient = -0.\n",
    "077).\n",
    "Overall, the correlations between these variables are weak, suggesting that there is little linear relationship between them.07)."
   ]
  },
  {
   "cell_type": "code",
   "execution_count": 8,
   "id": "8540c6da-02a6-478a-9880-057bcd12a638",
   "metadata": {
    "vscode": {
     "languageId": "r"
    }
   },
   "outputs": [
    {
     "data": {
      "text/html": [
       "<table class=\"dataframe\">\n",
       "<caption>A data.frame: 6 × 10</caption>\n",
       "<thead>\n",
       "\t<tr><th></th><th scope=col>borough</th><th scope=col>month</th><th scope=col>time_period</th><th scope=col>Season</th><th scope=col>accident_factor</th><th scope=col>vehicle_category</th><th scope=col>pedestrian_involved</th><th scope=col>cyclist_involved</th><th scope=col>motorist_involved</th><th scope=col>total_victims</th></tr>\n",
       "\t<tr><th></th><th scope=col>&lt;chr&gt;</th><th scope=col>&lt;int&gt;</th><th scope=col>&lt;fct&gt;</th><th scope=col>&lt;chr&gt;</th><th scope=col>&lt;chr&gt;</th><th scope=col>&lt;chr&gt;</th><th scope=col>&lt;dbl&gt;</th><th scope=col>&lt;dbl&gt;</th><th scope=col>&lt;dbl&gt;</th><th scope=col>&lt;int&gt;</th></tr>\n",
       "</thead>\n",
       "<tbody>\n",
       "\t<tr><th scope=row>1</th><td>MANHATTAN</td><td> 9</td><td>Non Rush Hour    </td><td>Fall  </td><td>Human Error          </td><td>Passenger Vehicles </td><td>0</td><td>0</td><td>1</td><td>4</td></tr>\n",
       "\t<tr><th scope=row>2</th><td>MANHATTAN</td><td> 3</td><td>Non Rush Hour    </td><td>Spring</td><td>Environmental Factors</td><td>Passenger Vehicles </td><td>0</td><td>0</td><td>1</td><td>2</td></tr>\n",
       "\t<tr><th scope=row>3</th><td>BRONX    </td><td> 6</td><td>Non Rush Hour    </td><td>Summer</td><td>Human Error          </td><td>Passenger Vehicles </td><td>0</td><td>0</td><td>0</td><td>0</td></tr>\n",
       "\t<tr><th scope=row>4</th><td>BROOKLYN </td><td> 9</td><td>Morning Rush Hour</td><td>Fall  </td><td>Miscellaneous        </td><td>Passenger Vehicles </td><td>0</td><td>0</td><td>0</td><td>0</td></tr>\n",
       "\t<tr><th scope=row>5</th><td>BROOKLYN </td><td>12</td><td>Morning Rush Hour</td><td>Winter</td><td>Miscellaneous        </td><td>Other              </td><td>0</td><td>0</td><td>0</td><td>0</td></tr>\n",
       "\t<tr><th scope=row>6</th><td>BRONX    </td><td> 4</td><td>Non Rush Hour    </td><td>Spring</td><td>Miscellaneous        </td><td>Commercial Vehicles</td><td>0</td><td>0</td><td>0</td><td>0</td></tr>\n",
       "</tbody>\n",
       "</table>\n"
      ],
      "text/latex": [
       "A data.frame: 6 × 10\n",
       "\\begin{tabular}{r|llllllllll}\n",
       "  & borough & month & time\\_period & Season & accident\\_factor & vehicle\\_category & pedestrian\\_involved & cyclist\\_involved & motorist\\_involved & total\\_victims\\\\\n",
       "  & <chr> & <int> & <fct> & <chr> & <chr> & <chr> & <dbl> & <dbl> & <dbl> & <int>\\\\\n",
       "\\hline\n",
       "\t1 & MANHATTAN &  9 & Non Rush Hour     & Fall   & Human Error           & Passenger Vehicles  & 0 & 0 & 1 & 4\\\\\n",
       "\t2 & MANHATTAN &  3 & Non Rush Hour     & Spring & Environmental Factors & Passenger Vehicles  & 0 & 0 & 1 & 2\\\\\n",
       "\t3 & BRONX     &  6 & Non Rush Hour     & Summer & Human Error           & Passenger Vehicles  & 0 & 0 & 0 & 0\\\\\n",
       "\t4 & BROOKLYN  &  9 & Morning Rush Hour & Fall   & Miscellaneous         & Passenger Vehicles  & 0 & 0 & 0 & 0\\\\\n",
       "\t5 & BROOKLYN  & 12 & Morning Rush Hour & Winter & Miscellaneous         & Other               & 0 & 0 & 0 & 0\\\\\n",
       "\t6 & BRONX     &  4 & Non Rush Hour     & Spring & Miscellaneous         & Commercial Vehicles & 0 & 0 & 0 & 0\\\\\n",
       "\\end{tabular}\n"
      ],
      "text/markdown": [
       "\n",
       "A data.frame: 6 × 10\n",
       "\n",
       "| <!--/--> | borough &lt;chr&gt; | month &lt;int&gt; | time_period &lt;fct&gt; | Season &lt;chr&gt; | accident_factor &lt;chr&gt; | vehicle_category &lt;chr&gt; | pedestrian_involved &lt;dbl&gt; | cyclist_involved &lt;dbl&gt; | motorist_involved &lt;dbl&gt; | total_victims &lt;int&gt; |\n",
       "|---|---|---|---|---|---|---|---|---|---|---|\n",
       "| 1 | MANHATTAN |  9 | Non Rush Hour     | Fall   | Human Error           | Passenger Vehicles  | 0 | 0 | 1 | 4 |\n",
       "| 2 | MANHATTAN |  3 | Non Rush Hour     | Spring | Environmental Factors | Passenger Vehicles  | 0 | 0 | 1 | 2 |\n",
       "| 3 | BRONX     |  6 | Non Rush Hour     | Summer | Human Error           | Passenger Vehicles  | 0 | 0 | 0 | 0 |\n",
       "| 4 | BROOKLYN  |  9 | Morning Rush Hour | Fall   | Miscellaneous         | Passenger Vehicles  | 0 | 0 | 0 | 0 |\n",
       "| 5 | BROOKLYN  | 12 | Morning Rush Hour | Winter | Miscellaneous         | Other               | 0 | 0 | 0 | 0 |\n",
       "| 6 | BRONX     |  4 | Non Rush Hour     | Spring | Miscellaneous         | Commercial Vehicles | 0 | 0 | 0 | 0 |\n",
       "\n"
      ],
      "text/plain": [
       "  borough   month time_period       Season accident_factor      \n",
       "1 MANHATTAN  9    Non Rush Hour     Fall   Human Error          \n",
       "2 MANHATTAN  3    Non Rush Hour     Spring Environmental Factors\n",
       "3 BRONX      6    Non Rush Hour     Summer Human Error          \n",
       "4 BROOKLYN   9    Morning Rush Hour Fall   Miscellaneous        \n",
       "5 BROOKLYN  12    Morning Rush Hour Winter Miscellaneous        \n",
       "6 BRONX      4    Non Rush Hour     Spring Miscellaneous        \n",
       "  vehicle_category    pedestrian_involved cyclist_involved motorist_involved\n",
       "1 Passenger Vehicles  0                   0                1                \n",
       "2 Passenger Vehicles  0                   0                1                \n",
       "3 Passenger Vehicles  0                   0                0                \n",
       "4 Passenger Vehicles  0                   0                0                \n",
       "5 Other               0                   0                0                \n",
       "6 Commercial Vehicles 0                   0                0                \n",
       "  total_victims\n",
       "1 4            \n",
       "2 2            \n",
       "3 0            \n",
       "4 0            \n",
       "5 0            \n",
       "6 0            "
      ]
     },
     "metadata": {},
     "output_type": "display_data"
    }
   ],
   "source": [
    "head(df_cln)"
   ]
  },
  {
   "cell_type": "markdown",
   "id": "d3f0eafc-1046-4369-beb0-6d6525ebe421",
   "metadata": {},
   "source": [
    "### Creting dummy variables"
   ]
  },
  {
   "cell_type": "code",
   "execution_count": 9,
   "id": "7af6e9d9-03e1-47de-a3bf-92596d6d6d26",
   "metadata": {
    "vscode": {
     "languageId": "r"
    }
   },
   "outputs": [],
   "source": [
    "## Lets convert categorical data into dummy variables\n",
    "dummy_feats <- c(\"borough\", \"time_period\", \"Season\", \"accident_factor\", \"vehicle_category\")\n",
    "\n",
    "# Creating dummy variables with drop_first=TRUE to remove one dummy per category\n",
    "dummy_df <- dummy_cols(df_cln, select_columns = dummy_feats, remove_first_dummy = TRUE)\n"
   ]
  },
  {
   "cell_type": "code",
   "execution_count": 10,
   "id": "6cb63d0c-534b-424f-8091-935dfebd0c07",
   "metadata": {
    "vscode": {
     "languageId": "r"
    }
   },
   "outputs": [
    {
     "data": {
      "text/html": [
       "<table class=\"dataframe\">\n",
       "<caption>A data.frame: 6 × 27</caption>\n",
       "<thead>\n",
       "\t<tr><th></th><th scope=col>borough</th><th scope=col>month</th><th scope=col>time_period</th><th scope=col>Season</th><th scope=col>accident_factor</th><th scope=col>vehicle_category</th><th scope=col>pedestrian_involved</th><th scope=col>cyclist_involved</th><th scope=col>motorist_involved</th><th scope=col>total_victims</th><th scope=col>...</th><th scope=col>Season_Summer</th><th scope=col>Season_Winter</th><th scope=col>accident_factor_Human Error</th><th scope=col>accident_factor_Miscellaneous</th><th scope=col>accident_factor_Substance Use</th><th scope=col>accident_factor_Technology-related</th><th scope=col>accident_factor_Vehicle-related Issues</th><th scope=col>vehicle_category_Other</th><th scope=col>vehicle_category_Other Vehicles</th><th scope=col>vehicle_category_Passenger Vehicles</th></tr>\n",
       "\t<tr><th></th><th scope=col>&lt;chr&gt;</th><th scope=col>&lt;int&gt;</th><th scope=col>&lt;fct&gt;</th><th scope=col>&lt;chr&gt;</th><th scope=col>&lt;chr&gt;</th><th scope=col>&lt;chr&gt;</th><th scope=col>&lt;dbl&gt;</th><th scope=col>&lt;dbl&gt;</th><th scope=col>&lt;dbl&gt;</th><th scope=col>&lt;int&gt;</th><th scope=col>...</th><th scope=col>&lt;int&gt;</th><th scope=col>&lt;int&gt;</th><th scope=col>&lt;int&gt;</th><th scope=col>&lt;int&gt;</th><th scope=col>&lt;int&gt;</th><th scope=col>&lt;int&gt;</th><th scope=col>&lt;int&gt;</th><th scope=col>&lt;int&gt;</th><th scope=col>&lt;int&gt;</th><th scope=col>&lt;int&gt;</th></tr>\n",
       "</thead>\n",
       "<tbody>\n",
       "\t<tr><th scope=row>1</th><td>MANHATTAN</td><td> 9</td><td>Non Rush Hour    </td><td>Fall  </td><td>Human Error          </td><td>Passenger Vehicles </td><td>0</td><td>0</td><td>1</td><td>4</td><td>...</td><td>0</td><td>0</td><td>1</td><td>0</td><td>0</td><td>0</td><td>0</td><td>0</td><td>0</td><td>1</td></tr>\n",
       "\t<tr><th scope=row>2</th><td>MANHATTAN</td><td> 3</td><td>Non Rush Hour    </td><td>Spring</td><td>Environmental Factors</td><td>Passenger Vehicles </td><td>0</td><td>0</td><td>1</td><td>2</td><td>...</td><td>0</td><td>0</td><td>0</td><td>0</td><td>0</td><td>0</td><td>0</td><td>0</td><td>0</td><td>1</td></tr>\n",
       "\t<tr><th scope=row>3</th><td>BRONX    </td><td> 6</td><td>Non Rush Hour    </td><td>Summer</td><td>Human Error          </td><td>Passenger Vehicles </td><td>0</td><td>0</td><td>0</td><td>0</td><td>...</td><td>1</td><td>0</td><td>1</td><td>0</td><td>0</td><td>0</td><td>0</td><td>0</td><td>0</td><td>1</td></tr>\n",
       "\t<tr><th scope=row>4</th><td>BROOKLYN </td><td> 9</td><td>Morning Rush Hour</td><td>Fall  </td><td>Miscellaneous        </td><td>Passenger Vehicles </td><td>0</td><td>0</td><td>0</td><td>0</td><td>...</td><td>0</td><td>0</td><td>0</td><td>1</td><td>0</td><td>0</td><td>0</td><td>0</td><td>0</td><td>1</td></tr>\n",
       "\t<tr><th scope=row>5</th><td>BROOKLYN </td><td>12</td><td>Morning Rush Hour</td><td>Winter</td><td>Miscellaneous        </td><td>Other              </td><td>0</td><td>0</td><td>0</td><td>0</td><td>...</td><td>0</td><td>1</td><td>0</td><td>1</td><td>0</td><td>0</td><td>0</td><td>1</td><td>0</td><td>0</td></tr>\n",
       "\t<tr><th scope=row>6</th><td>BRONX    </td><td> 4</td><td>Non Rush Hour    </td><td>Spring</td><td>Miscellaneous        </td><td>Commercial Vehicles</td><td>0</td><td>0</td><td>0</td><td>0</td><td>...</td><td>0</td><td>0</td><td>0</td><td>1</td><td>0</td><td>0</td><td>0</td><td>0</td><td>0</td><td>0</td></tr>\n",
       "</tbody>\n",
       "</table>\n"
      ],
      "text/latex": [
       "A data.frame: 6 × 27\n",
       "\\begin{tabular}{r|lllllllllllllllllllll}\n",
       "  & borough & month & time\\_period & Season & accident\\_factor & vehicle\\_category & pedestrian\\_involved & cyclist\\_involved & motorist\\_involved & total\\_victims & ... & Season\\_Summer & Season\\_Winter & accident\\_factor\\_Human Error & accident\\_factor\\_Miscellaneous & accident\\_factor\\_Substance Use & accident\\_factor\\_Technology-related & accident\\_factor\\_Vehicle-related Issues & vehicle\\_category\\_Other & vehicle\\_category\\_Other Vehicles & vehicle\\_category\\_Passenger Vehicles\\\\\n",
       "  & <chr> & <int> & <fct> & <chr> & <chr> & <chr> & <dbl> & <dbl> & <dbl> & <int> & ... & <int> & <int> & <int> & <int> & <int> & <int> & <int> & <int> & <int> & <int>\\\\\n",
       "\\hline\n",
       "\t1 & MANHATTAN &  9 & Non Rush Hour     & Fall   & Human Error           & Passenger Vehicles  & 0 & 0 & 1 & 4 & ... & 0 & 0 & 1 & 0 & 0 & 0 & 0 & 0 & 0 & 1\\\\\n",
       "\t2 & MANHATTAN &  3 & Non Rush Hour     & Spring & Environmental Factors & Passenger Vehicles  & 0 & 0 & 1 & 2 & ... & 0 & 0 & 0 & 0 & 0 & 0 & 0 & 0 & 0 & 1\\\\\n",
       "\t3 & BRONX     &  6 & Non Rush Hour     & Summer & Human Error           & Passenger Vehicles  & 0 & 0 & 0 & 0 & ... & 1 & 0 & 1 & 0 & 0 & 0 & 0 & 0 & 0 & 1\\\\\n",
       "\t4 & BROOKLYN  &  9 & Morning Rush Hour & Fall   & Miscellaneous         & Passenger Vehicles  & 0 & 0 & 0 & 0 & ... & 0 & 0 & 0 & 1 & 0 & 0 & 0 & 0 & 0 & 1\\\\\n",
       "\t5 & BROOKLYN  & 12 & Morning Rush Hour & Winter & Miscellaneous         & Other               & 0 & 0 & 0 & 0 & ... & 0 & 1 & 0 & 1 & 0 & 0 & 0 & 1 & 0 & 0\\\\\n",
       "\t6 & BRONX     &  4 & Non Rush Hour     & Spring & Miscellaneous         & Commercial Vehicles & 0 & 0 & 0 & 0 & ... & 0 & 0 & 0 & 1 & 0 & 0 & 0 & 0 & 0 & 0\\\\\n",
       "\\end{tabular}\n"
      ],
      "text/markdown": [
       "\n",
       "A data.frame: 6 × 27\n",
       "\n",
       "| <!--/--> | borough &lt;chr&gt; | month &lt;int&gt; | time_period &lt;fct&gt; | Season &lt;chr&gt; | accident_factor &lt;chr&gt; | vehicle_category &lt;chr&gt; | pedestrian_involved &lt;dbl&gt; | cyclist_involved &lt;dbl&gt; | motorist_involved &lt;dbl&gt; | total_victims &lt;int&gt; | ... ... | Season_Summer &lt;int&gt; | Season_Winter &lt;int&gt; | accident_factor_Human Error &lt;int&gt; | accident_factor_Miscellaneous &lt;int&gt; | accident_factor_Substance Use &lt;int&gt; | accident_factor_Technology-related &lt;int&gt; | accident_factor_Vehicle-related Issues &lt;int&gt; | vehicle_category_Other &lt;int&gt; | vehicle_category_Other Vehicles &lt;int&gt; | vehicle_category_Passenger Vehicles &lt;int&gt; |\n",
       "|---|---|---|---|---|---|---|---|---|---|---|---|---|---|---|---|---|---|---|---|---|---|\n",
       "| 1 | MANHATTAN |  9 | Non Rush Hour     | Fall   | Human Error           | Passenger Vehicles  | 0 | 0 | 1 | 4 | ... | 0 | 0 | 1 | 0 | 0 | 0 | 0 | 0 | 0 | 1 |\n",
       "| 2 | MANHATTAN |  3 | Non Rush Hour     | Spring | Environmental Factors | Passenger Vehicles  | 0 | 0 | 1 | 2 | ... | 0 | 0 | 0 | 0 | 0 | 0 | 0 | 0 | 0 | 1 |\n",
       "| 3 | BRONX     |  6 | Non Rush Hour     | Summer | Human Error           | Passenger Vehicles  | 0 | 0 | 0 | 0 | ... | 1 | 0 | 1 | 0 | 0 | 0 | 0 | 0 | 0 | 1 |\n",
       "| 4 | BROOKLYN  |  9 | Morning Rush Hour | Fall   | Miscellaneous         | Passenger Vehicles  | 0 | 0 | 0 | 0 | ... | 0 | 0 | 0 | 1 | 0 | 0 | 0 | 0 | 0 | 1 |\n",
       "| 5 | BROOKLYN  | 12 | Morning Rush Hour | Winter | Miscellaneous         | Other               | 0 | 0 | 0 | 0 | ... | 0 | 1 | 0 | 1 | 0 | 0 | 0 | 1 | 0 | 0 |\n",
       "| 6 | BRONX     |  4 | Non Rush Hour     | Spring | Miscellaneous         | Commercial Vehicles | 0 | 0 | 0 | 0 | ... | 0 | 0 | 0 | 1 | 0 | 0 | 0 | 0 | 0 | 0 |\n",
       "\n"
      ],
      "text/plain": [
       "  borough   month time_period       Season accident_factor      \n",
       "1 MANHATTAN  9    Non Rush Hour     Fall   Human Error          \n",
       "2 MANHATTAN  3    Non Rush Hour     Spring Environmental Factors\n",
       "3 BRONX      6    Non Rush Hour     Summer Human Error          \n",
       "4 BROOKLYN   9    Morning Rush Hour Fall   Miscellaneous        \n",
       "5 BROOKLYN  12    Morning Rush Hour Winter Miscellaneous        \n",
       "6 BRONX      4    Non Rush Hour     Spring Miscellaneous        \n",
       "  vehicle_category    pedestrian_involved cyclist_involved motorist_involved\n",
       "1 Passenger Vehicles  0                   0                1                \n",
       "2 Passenger Vehicles  0                   0                1                \n",
       "3 Passenger Vehicles  0                   0                0                \n",
       "4 Passenger Vehicles  0                   0                0                \n",
       "5 Other               0                   0                0                \n",
       "6 Commercial Vehicles 0                   0                0                \n",
       "  total_victims ... Season_Summer Season_Winter accident_factor_Human Error\n",
       "1 4             ... 0             0             1                          \n",
       "2 2             ... 0             0             0                          \n",
       "3 0             ... 1             0             1                          \n",
       "4 0             ... 0             0             0                          \n",
       "5 0             ... 0             1             0                          \n",
       "6 0             ... 0             0             0                          \n",
       "  accident_factor_Miscellaneous accident_factor_Substance Use\n",
       "1 0                             0                            \n",
       "2 0                             0                            \n",
       "3 0                             0                            \n",
       "4 1                             0                            \n",
       "5 1                             0                            \n",
       "6 1                             0                            \n",
       "  accident_factor_Technology-related accident_factor_Vehicle-related Issues\n",
       "1 0                                  0                                     \n",
       "2 0                                  0                                     \n",
       "3 0                                  0                                     \n",
       "4 0                                  0                                     \n",
       "5 0                                  0                                     \n",
       "6 0                                  0                                     \n",
       "  vehicle_category_Other vehicle_category_Other Vehicles\n",
       "1 0                      0                              \n",
       "2 0                      0                              \n",
       "3 0                      0                              \n",
       "4 0                      0                              \n",
       "5 1                      0                              \n",
       "6 0                      0                              \n",
       "  vehicle_category_Passenger Vehicles\n",
       "1 1                                  \n",
       "2 1                                  \n",
       "3 1                                  \n",
       "4 1                                  \n",
       "5 0                                  \n",
       "6 0                                  "
      ]
     },
     "metadata": {},
     "output_type": "display_data"
    },
    {
     "data": {
      "text/html": [
       "<style>\n",
       ".list-inline {list-style: none; margin:0; padding: 0}\n",
       ".list-inline>li {display: inline-block}\n",
       ".list-inline>li:not(:last-child)::after {content: \"\\00b7\"; padding: 0 .5ex}\n",
       "</style>\n",
       "<ol class=list-inline><li>1110808</li><li>27</li></ol>\n"
      ],
      "text/latex": [
       "\\begin{enumerate*}\n",
       "\\item 1110808\n",
       "\\item 27\n",
       "\\end{enumerate*}\n"
      ],
      "text/markdown": [
       "1. 1110808\n",
       "2. 27\n",
       "\n",
       "\n"
      ],
      "text/plain": [
       "[1] 1110808      27"
      ]
     },
     "metadata": {},
     "output_type": "display_data"
    }
   ],
   "source": [
    "head(dummy_df)\n",
    "dim(dummy_df)"
   ]
  },
  {
   "cell_type": "markdown",
   "id": "e8be5afc-5528-4483-a582-8038590fe16c",
   "metadata": {},
   "source": [
    "### Train Test Split"
   ]
  },
  {
   "cell_type": "code",
   "execution_count": 11,
   "id": "e52396fc-c9e2-4bee-bcb4-a087422abb49",
   "metadata": {
    "vscode": {
     "languageId": "r"
    }
   },
   "outputs": [
    {
     "name": "stdout",
     "output_type": "stream",
     "text": [
      "Training data size: 777566 \n",
      "Testing data size: 333242 \n"
     ]
    }
   ],
   "source": [
    "# Creating a numeric vector to represent the indices of the training set\n",
    "train_indices <- createDataPartition(dummy_df$total_victims, p = 0.70, list = FALSE)\n",
    "\n",
    "# Spliting the dataset into training and testing set\n",
    "train_data <- dummy_df[train_indices, ]\n",
    "test_data <- dummy_df[-train_indices, ]\n",
    "\n",
    "cat(\"Training data size:\", nrow(train_data), \"\\n\")\n",
    "cat(\"Testing data size:\", nrow(test_data), \"\\n\")"
   ]
  },
  {
   "cell_type": "code",
   "execution_count": null,
   "id": "12bef8c7-52db-4e9a-8eb2-fca06d8c5fcb",
   "metadata": {
    "vscode": {
     "languageId": "r"
    }
   },
   "outputs": [],
   "source": [
    "names(train_data)"
   ]
  },
  {
   "cell_type": "markdown",
   "id": "17a86a0f-b5a1-47af-8248-b8feafa66da6",
   "metadata": {},
   "source": [
    "### Feature Selection"
   ]
  },
  {
   "cell_type": "code",
   "execution_count": 13,
   "id": "ca762d2e-05df-4c07-88d8-f7615e9aad08",
   "metadata": {
    "scrolled": true,
    "vscode": {
     "languageId": "r"
    }
   },
   "outputs": [
    {
     "data": {
      "text/html": [
       "<style>\n",
       ".list-inline {list-style: none; margin:0; padding: 0}\n",
       ".list-inline>li {display: inline-block}\n",
       ".list-inline>li:not(:last-child)::after {content: \"\\00b7\"; padding: 0 .5ex}\n",
       "</style>\n",
       "<ol class=list-inline><li>'(Intercept)'</li><li>'boroughMANHATTAN'</li><li>'boroughQUEENS'</li><li>'boroughSTATEN ISLAND'</li><li>'time_periodEvening Rush Hour'</li><li>'time_periodNon Rush Hour'</li><li>'SeasonSummer'</li><li>'accident_factorHuman Error'</li><li>'accident_factorMiscellaneous'</li><li>'accident_factorSubstance Use'</li><li>'accident_factorVehicle-related Issues'</li><li>'vehicle_categoryOther'</li><li>'vehicle_categoryPassenger Vehicles'</li><li>'pedestrian_involved'</li><li>'cyclist_involved'</li><li>'motorist_involved'</li></ol>\n"
      ],
      "text/latex": [
       "\\begin{enumerate*}\n",
       "\\item '(Intercept)'\n",
       "\\item 'boroughMANHATTAN'\n",
       "\\item 'boroughQUEENS'\n",
       "\\item 'boroughSTATEN ISLAND'\n",
       "\\item 'time\\_periodEvening Rush Hour'\n",
       "\\item 'time\\_periodNon Rush Hour'\n",
       "\\item 'SeasonSummer'\n",
       "\\item 'accident\\_factorHuman Error'\n",
       "\\item 'accident\\_factorMiscellaneous'\n",
       "\\item 'accident\\_factorSubstance Use'\n",
       "\\item 'accident\\_factorVehicle-related Issues'\n",
       "\\item 'vehicle\\_categoryOther'\n",
       "\\item 'vehicle\\_categoryPassenger Vehicles'\n",
       "\\item 'pedestrian\\_involved'\n",
       "\\item 'cyclist\\_involved'\n",
       "\\item 'motorist\\_involved'\n",
       "\\end{enumerate*}\n"
      ],
      "text/markdown": [
       "1. '(Intercept)'\n",
       "2. 'boroughMANHATTAN'\n",
       "3. 'boroughQUEENS'\n",
       "4. 'boroughSTATEN ISLAND'\n",
       "5. 'time_periodEvening Rush Hour'\n",
       "6. 'time_periodNon Rush Hour'\n",
       "7. 'SeasonSummer'\n",
       "8. 'accident_factorHuman Error'\n",
       "9. 'accident_factorMiscellaneous'\n",
       "10. 'accident_factorSubstance Use'\n",
       "11. 'accident_factorVehicle-related Issues'\n",
       "12. 'vehicle_categoryOther'\n",
       "13. 'vehicle_categoryPassenger Vehicles'\n",
       "14. 'pedestrian_involved'\n",
       "15. 'cyclist_involved'\n",
       "16. 'motorist_involved'\n",
       "\n",
       "\n"
      ],
      "text/plain": [
       " [1] \"(Intercept)\"                          \n",
       " [2] \"boroughMANHATTAN\"                     \n",
       " [3] \"boroughQUEENS\"                        \n",
       " [4] \"boroughSTATEN ISLAND\"                 \n",
       " [5] \"time_periodEvening Rush Hour\"         \n",
       " [6] \"time_periodNon Rush Hour\"             \n",
       " [7] \"SeasonSummer\"                         \n",
       " [8] \"accident_factorHuman Error\"           \n",
       " [9] \"accident_factorMiscellaneous\"         \n",
       "[10] \"accident_factorSubstance Use\"         \n",
       "[11] \"accident_factorVehicle-related Issues\"\n",
       "[12] \"vehicle_categoryOther\"                \n",
       "[13] \"vehicle_categoryPassenger Vehicles\"   \n",
       "[14] \"pedestrian_involved\"                  \n",
       "[15] \"cyclist_involved\"                     \n",
       "[16] \"motorist_involved\"                    "
      ]
     },
     "metadata": {},
     "output_type": "display_data"
    }
   ],
   "source": [
    "# feature selection using p-value\n",
    "lm_model <- lm(total_victims ~ ., data = train_data)\n",
    "\n",
    "# Check summary of the model\n",
    "# summary(lm_model)\n",
    "\n",
    "# Extract p-values for each coefficient\n",
    "p_values <- summary(lm_model)$coefficients[, \"Pr(>|t|)\"]\n",
    "\n",
    "# Select only features with p-values less than a certain threshold (e.g., 0.05)\n",
    "significant_features <- names(p_values[p_values < 0.05])\n",
    "significant_features"
   ]
  },
  {
   "cell_type": "code",
   "execution_count": 14,
   "id": "e193e760-22c6-485f-b55b-528f0e07c748",
   "metadata": {
    "vscode": {
     "languageId": "r"
    }
   },
   "outputs": [],
   "source": [
    "significant_features <- c('total_victims', 'pedestrian_involved', 'cyclist_involved', 'motorist_involved', 'month',\n",
    "                       'borough_BROOKLYN', 'borough_MANHATTAN', 'borough_QUEENS', 'borough_STATEN ISLAND', \n",
    "                       'time_period_Evening Rush Hour', 'Season_Spring', \n",
    "                       'Season_Summer', 'accident_factor_Human Error', \n",
    "                        'accident_factor_Substance Use', 'accident_factor_Vehicle-related Issues', \n",
    "                       'vehicle_category_Other', 'vehicle_category_Passenger Vehicles')"
   ]
  },
  {
   "cell_type": "code",
   "execution_count": 15,
   "id": "1f151ba9-dd17-4a49-aeda-061391907fd7",
   "metadata": {
    "vscode": {
     "languageId": "r"
    }
   },
   "outputs": [],
   "source": [
    "train_data_filtered <- train_data[,significant_features]"
   ]
  },
  {
   "cell_type": "code",
   "execution_count": 16,
   "id": "92e7022c-683a-40c1-a70e-b974e83b01fb",
   "metadata": {
    "vscode": {
     "languageId": "r"
    }
   },
   "outputs": [
    {
     "data": {
      "text/html": [
       "<style>\n",
       ".list-inline {list-style: none; margin:0; padding: 0}\n",
       ".list-inline>li {display: inline-block}\n",
       ".list-inline>li:not(:last-child)::after {content: \"\\00b7\"; padding: 0 .5ex}\n",
       "</style>\n",
       "<ol class=list-inline><li>777566</li><li>17</li></ol>\n"
      ],
      "text/latex": [
       "\\begin{enumerate*}\n",
       "\\item 777566\n",
       "\\item 17\n",
       "\\end{enumerate*}\n"
      ],
      "text/markdown": [
       "1. 777566\n",
       "2. 17\n",
       "\n",
       "\n"
      ],
      "text/plain": [
       "[1] 777566     17"
      ]
     },
     "metadata": {},
     "output_type": "display_data"
    }
   ],
   "source": [
    "dim(train_data_filtered)"
   ]
  },
  {
   "cell_type": "code",
   "execution_count": 17,
   "id": "c18cd4ab-9d0e-45f1-b1d0-dd0b42beac2c",
   "metadata": {
    "vscode": {
     "languageId": "r"
    }
   },
   "outputs": [],
   "source": [
    "features_vec <- c('pedestrian_involved', 'cyclist_involved', 'motorist_involved', 'month',\n",
    "                       'borough_BROOKLYN', 'borough_MANHATTAN', 'borough_QUEENS', 'borough_STATEN ISLAND', \n",
    "                       'time_period_Evening Rush Hour', 'Season_Spring', \n",
    "                       'Season_Summer', 'accident_factor_Human Error', \n",
    "                        'accident_factor_Substance Use', 'accident_factor_Vehicle-related Issues', \n",
    "                       'vehicle_category_Other', 'vehicle_category_Passenger Vehicles')"
   ]
  },
  {
   "cell_type": "code",
   "execution_count": 18,
   "id": "bfa8ede2-2f07-40bd-9a02-d48455326068",
   "metadata": {
    "vscode": {
     "languageId": "r"
    }
   },
   "outputs": [
    {
     "data": {
      "image/png": "[encoded data removed]",
      "text/plain": [
       "Plot with title \"\""
      ]
     },
     "metadata": {
      "image/png": {
       "height": 420,
       "width": 420
      }
     },
     "output_type": "display_data"
    }
   ],
   "source": [
    "# checking if any features are correlated to each other\n",
    "cor_matrix <- cor(train_data_filtered[, features_vec])\n",
    "\n",
    "# let's plot the correlation matrix\n",
    "corrplot::corrplot(cor_matrix, method = \"circle\")"
   ]
  },
  {
   "cell_type": "markdown",
   "id": "6cd2685c-5281-4d8e-8ffc-41baacc04ebc",
   "metadata": {},
   "source": [
    "In this case, while there are some correlations among the variables, none of them are exceptionally high (above 0.7 or below -0.7).\n",
    "Therefore, based on the correlation matrix, the multicollinearity assumption can be considered to pass, as there are no extremely high correlations among the independent variables"
   ]
  },
  {
   "cell_type": "code",
   "execution_count": 19,
   "id": "e5fd5aa6-670b-47dc-ad46-34bad9ec519f",
   "metadata": {
    "vscode": {
     "languageId": "r"
    }
   },
   "outputs": [],
   "source": [
    "# resetting index value\n",
    "rownames(train_data_filtered) <- NULL\n",
    "rownames(test_data) <- NULL\n"
   ]
  },
  {
   "cell_type": "markdown",
   "id": "1d2d5b88-d410-4aba-afb2-ca746997f91e",
   "metadata": {},
   "source": [
    "### Model building"
   ]
  },
  {
   "cell_type": "code",
   "execution_count": 20,
   "id": "18ba72c5-bef9-4521-a4e2-59b9e57c01f9",
   "metadata": {
    "scrolled": true,
    "vscode": {
     "languageId": "r"
    }
   },
   "outputs": [
    {
     "data": {
      "text/plain": [
       "\n",
       "Call:\n",
       "lm(formula = total_victims ~ ., data = train_data_filtered)\n",
       "\n",
       "Residuals:\n",
       "    Min      1Q  Median      3Q     Max \n",
       "-2.0164 -0.0236 -0.0102  0.0005  7.9234 \n",
       "\n",
       "Coefficients:\n",
       "                                           Estimate Std. Error  t value\n",
       "(Intercept)                               0.0063813  0.0041894    1.523\n",
       "pedestrian_involved                       2.0743237  0.0034244  605.752\n",
       "cyclist_involved                          2.0159222  0.0044603  451.971\n",
       "motorist_involved                         2.9366206  0.0021044 1395.439\n",
       "month                                     0.0006896  0.0002484    2.776\n",
       "borough_BROOKLYN                         -0.0027589  0.0023551   -1.171\n",
       "borough_MANHATTAN                        -0.0178194  0.0025623   -6.954\n",
       "borough_QUEENS                           -0.0145490  0.0024191   -6.014\n",
       "`borough_STATEN ISLAND`                  -0.0069134  0.0031362   -2.204\n",
       "`time_period_Evening Rush Hour`          -0.0037360  0.0022552   -1.657\n",
       "Season_Spring                             0.0039256  0.0021041    1.866\n",
       "Season_Summer                             0.0127840  0.0018981    6.735\n",
       "`accident_factor_Human Error`            -0.0110011  0.0016156   -6.809\n",
       "`accident_factor_Substance Use`           0.0408731  0.0068491    5.968\n",
       "`accident_factor_Vehicle-related Issues`  0.0142724  0.0089705    1.591\n",
       "vehicle_category_Other                   -0.0370899  0.0069838   -5.311\n",
       "`vehicle_category_Passenger Vehicles`     0.0099617  0.0032561    3.059\n",
       "                                         Pr(>|t|)    \n",
       "(Intercept)                               0.12770    \n",
       "pedestrian_involved                       < 2e-16 ***\n",
       "cyclist_involved                          < 2e-16 ***\n",
       "motorist_involved                         < 2e-16 ***\n",
       "month                                     0.00550 ** \n",
       "borough_BROOKLYN                          0.24141    \n",
       "borough_MANHATTAN                        3.54e-12 ***\n",
       "borough_QUEENS                           1.81e-09 ***\n",
       "`borough_STATEN ISLAND`                   0.02750 *  \n",
       "`time_period_Evening Rush Hour`           0.09759 .  \n",
       "Season_Spring                             0.06208 .  \n",
       "Season_Summer                            1.64e-11 ***\n",
       "`accident_factor_Human Error`            9.81e-12 ***\n",
       "`accident_factor_Substance Use`          2.41e-09 ***\n",
       "`accident_factor_Vehicle-related Issues`  0.11160    \n",
       "vehicle_category_Other                   1.09e-07 ***\n",
       "`vehicle_category_Passenger Vehicles`     0.00222 ** \n",
       "---\n",
       "Signif. codes:  0 '***' 0.001 '**' 0.01 '*' 0.05 '.' 0.1 ' ' 1\n",
       "\n",
       "Residual standard error: 0.6863 on 777549 degrees of freedom\n",
       "Multiple R-squared:  0.7468,\tAdjusted R-squared:  0.7468 \n",
       "F-statistic: 1.433e+05 on 16 and 777549 DF,  p-value: < 2.2e-16\n"
      ]
     },
     "metadata": {},
     "output_type": "display_data"
    }
   ],
   "source": [
    "# Fit a linear regression model\n",
    "lm_model <- lm(total_victims ~ ., data = train_data_filtered)\n",
    "\n",
    "# Print the summary of the model\n",
    "summary(lm_model)"
   ]
  },
  {
   "cell_type": "markdown",
   "id": "296d223e-f1e4-4345-9ffb-b267f68c78ad",
   "metadata": {},
   "source": [
    "Residual standard error: This represents the standard deviation of the residuals, which are the differences between the observed and predicted values. In this case, the residual standard error is approximately 0.6863.\n",
    "\n",
    "Multiple R-squared: This value indicates the proportion of variance in the dependent variable (total_victims) that is explained by the independent variables in the model. An R-squared of 0.7468 means that approximately 74.68% of the variance in the total number of victims is explained by the independent variables included in the model.\n",
    "\n",
    "Adjusted R-squared: This value is similar to R-squared but adjusts for the number of predictors in the model. It penalizes the addition of unnecessary predictors that do not improve the model's fit. In this case, the adjusted R-squared is also 0.7468.\n",
    "\n",
    "F-statistic: This is the ratio of the mean square regression to the mean square error. It tests the overall significance of the regression model. A higher F-statistic indicates that the model is more likely to be significant. Here, the F-statistic is quite high, with a value of 1.433e+05.\n",
    "\n",
    "p-value: This represents the probability of observing the F-statistic or a more extreme value if the null hypothesis (that all regression coefficients are equal to zero) is true. A p-value less than the significance level (typically 0.05) suggests that at least one independent variable is significantly related to the dependent variable. In this case, the p-value is very close to zero, indicating that the regression model is significant."
   ]
  },
  {
   "cell_type": "code",
   "execution_count": 21,
   "id": "2f858fc3-ce62-439c-9f69-35620ffa2470",
   "metadata": {
    "vscode": {
     "languageId": "r"
    }
   },
   "outputs": [
    {
     "name": "stderr",
     "output_type": "stream",
     "text": [
      "Warning message in test_data$total_victims - predicted:\n",
      "\"longer object length is not a multiple of shorter object length\"\n"
     ]
    },
    {
     "name": "stdout",
     "output_type": "stream",
     "text": [
      "Mean Squared Error (MSE): 3.277386 \n",
      "Root Mean Squared Error (RMSE): 1.810355 \n",
      "R-squared: 0.7467907 \n"
     ]
    }
   ],
   "source": [
    "predicted <- predict(lm_model, data = test_data[,features_vec])\n",
    "\n",
    "# Evaluate the model\n",
    "mse <- mean((test_data$total_victims - predicted)^2)  # Mean Squared Error\n",
    "rmse <- sqrt(mse)                                     # Root Mean Squared Error\n",
    "rsquared <- summary(lm_model)$r.squared                # R-squared\n",
    "\n",
    "# Print evaluation metrics\n",
    "cat(\"Mean Squared Error (MSE):\", mse, \"\\n\")\n",
    "cat(\"Root Mean Squared Error (RMSE):\", rmse, \"\\n\")\n",
    "cat(\"R-squared:\", rsquared, \"\\n\")"
   ]
  },
  {
   "cell_type": "code",
   "execution_count": 22,
   "id": "b880a467-f8ee-4d3b-be18-53562d8a1d0d",
   "metadata": {
    "vscode": {
     "languageId": "r"
    }
   },
   "outputs": [],
   "source": [
    "# Converting test_data to data.table\n",
    "setDT(test_data)\n",
    "\n",
    "# Using data.table's for fast row-wise operation\n",
    "test_data[, predicted_total_victims := predict(lm_model, newdata = .SD), .SDcols = names(test_data)[!names(test_data) %in% \"predicted_total_victims\"]]"
   ]
  },
  {
   "cell_type": "markdown",
   "id": "ea1d5acb-5629-4106-ac49-82e877681a3a",
   "metadata": {},
   "source": [
    "### Interpretation of result:\n",
    "\n",
    "Mean Squared Error (MSE): This metric measures the average squared difference between the actual and predicted values. It is calculated by averaging the squared differences between each predicted value and its corresponding actual value. In this case, the MSE is 3.280748.\n",
    "\n",
    "Root Mean Squared Error (RMSE): This is the square root of the MSE. It provides an estimate of the standard deviation of the errors made by the model in its predictions. In this case, the RMSE is 1.811284.\n",
    "\n",
    "R-squared (R²): This metric indicates the proportion of the variance in the dependent variable (total_victims) that is predictable from the independent variables (features) in the model. It ranges from 0 to 1, where 1 indicates a perfect fit. In this case, the R-squared value is 0.7477388, indicating that approximately 74.77% of the variance in the total number of victims is explained by the independent variables included in the mod\n",
    "\n",
    "el.\n",
    "Overall, the model appears to have decent predictive performance, with a relatively low MSE and RMSE and a moderately high R-squared value."
   ]
  },
  {
   "cell_type": "code",
   "execution_count": 23,
   "id": "6284524a-fa71-4875-b35a-8498a1dd7253",
   "metadata": {
    "vscode": {
     "languageId": "r"
    }
   },
   "outputs": [
    {
     "data": {
      "text/html": [
       "7.04231137962901"
      ],
      "text/latex": [
       "7.04231137962901"
      ],
      "text/markdown": [
       "7.04231137962901"
      ],
      "text/plain": [
       "[1] 7.042311"
      ]
     },
     "metadata": {},
     "output_type": "display_data"
    }
   ],
   "source": [
    "max(test_data$predicted_total_victims)"
   ]
  },
  {
   "cell_type": "markdown",
   "id": "bd00512f-d252-4b1b-8c38-c480e45fec3d",
   "metadata": {},
   "source": [
    "### Feature Importance"
   ]
  },
  {
   "cell_type": "code",
   "execution_count": 27,
   "id": "7a194a6a-f100-4c6a-9c49-928e56656582",
   "metadata": {
    "vscode": {
     "languageId": "r"
    }
   },
   "outputs": [
    {
     "data": {
      "image/png": "[encoded data removed]",
      "text/plain": [
       "plot without title"
      ]
     },
     "metadata": {
      "image/png": {
       "height": 420,
       "width": 420
      }
     },
     "output_type": "display_data"
    }
   ],
   "source": [
    "coefficients <- coef(lm_model)\n",
    "\n",
    "# Sorting coefficients by absolute magnitude\n",
    "coefficients_sorted <- coefficients[order(abs(coefficients), decreasing = TRUE)]\n",
    "\n",
    "top_5 <- coefficients_sorted[1:5]\n",
    "\n",
    "# Creating a data frame for plotting\n",
    "plot_data <- data.frame(\n",
    "  Feature = names(top_5),\n",
    "  Importance = top_5\n",
    ")\n",
    "\n",
    "# Plotting\n",
    "library(ggplot2)\n",
    "\n",
    "ggplot(plot_data, aes(x = reorder(Feature, Importance), y = Importance)) +\n",
    "  geom_bar(stat = \"identity\", fill = \"skyblue\", color = \"black\") +\n",
    "  coord_flip() +  \n",
    "  labs(x = \"Feature\", y = \"Importance\", title = \"Top 5 Features in LR Model\") +\n",
    "  theme_minimal() +\n",
    "  theme(text = element_text(size = 14))"
   ]
  },
  {
   "cell_type": "code",
   "execution_count": 25,
   "id": "776d51c3-84d0-40d2-bd92-a19180504781",
   "metadata": {
    "vscode": {
     "languageId": "r"
    }
   },
   "outputs": [
    {
     "data": {
      "text/html": [
       "<table class=\"dataframe\">\n",
       "<caption>A data.frame: 5 × 2</caption>\n",
       "<thead>\n",
       "\t<tr><th></th><th scope=col>Feature</th><th scope=col>Importance</th></tr>\n",
       "\t<tr><th></th><th scope=col>&lt;chr&gt;</th><th scope=col>&lt;dbl&gt;</th></tr>\n",
       "</thead>\n",
       "<tbody>\n",
       "\t<tr><th scope=row>motorist_involved</th><td>motorist_involved              </td><td> 2.93662061</td></tr>\n",
       "\t<tr><th scope=row>pedestrian_involved</th><td>pedestrian_involved            </td><td> 2.07432368</td></tr>\n",
       "\t<tr><th scope=row>cyclist_involved</th><td>cyclist_involved               </td><td> 2.01592217</td></tr>\n",
       "\t<tr><th scope=row>`accident_factor_Substance Use`</th><td>`accident_factor_Substance Use`</td><td> 0.04087310</td></tr>\n",
       "\t<tr><th scope=row>vehicle_category_Other</th><td>vehicle_category_Other         </td><td>-0.03708992</td></tr>\n",
       "</tbody>\n",
       "</table>\n"
      ],
      "text/latex": [
       "A data.frame: 5 × 2\n",
       "\\begin{tabular}{r|ll}\n",
       "  & Feature & Importance\\\\\n",
       "  & <chr> & <dbl>\\\\\n",
       "\\hline\n",
       "\tmotorist\\_involved & motorist\\_involved               &  2.93662061\\\\\n",
       "\tpedestrian\\_involved & pedestrian\\_involved             &  2.07432368\\\\\n",
       "\tcyclist\\_involved & cyclist\\_involved                &  2.01592217\\\\\n",
       "\t`accident\\_factor\\_Substance Use` & `accident\\_factor\\_Substance Use` &  0.04087310\\\\\n",
       "\tvehicle\\_category\\_Other & vehicle\\_category\\_Other          & -0.03708992\\\\\n",
       "\\end{tabular}\n"
      ],
      "text/markdown": [
       "\n",
       "A data.frame: 5 × 2\n",
       "\n",
       "| <!--/--> | Feature &lt;chr&gt; | Importance &lt;dbl&gt; |\n",
       "|---|---|---|\n",
       "| motorist_involved | motorist_involved               |  2.93662061 |\n",
       "| pedestrian_involved | pedestrian_involved             |  2.07432368 |\n",
       "| cyclist_involved | cyclist_involved                |  2.01592217 |\n",
       "| `accident_factor_Substance Use` | `accident_factor_Substance Use` |  0.04087310 |\n",
       "| vehicle_category_Other | vehicle_category_Other          | -0.03708992 |\n",
       "\n"
      ],
      "text/plain": [
       "                                Feature                         Importance \n",
       "motorist_involved               motorist_involved                2.93662061\n",
       "pedestrian_involved             pedestrian_involved              2.07432368\n",
       "cyclist_involved                cyclist_involved                 2.01592217\n",
       "`accident_factor_Substance Use` `accident_factor_Substance Use`  0.04087310\n",
       "vehicle_category_Other          vehicle_category_Other          -0.03708992"
      ]
     },
     "metadata": {},
     "output_type": "display_data"
    }
   ],
   "source": [
    "plot_data"
   ]
  },
  {
   "cell_type": "markdown",
   "id": "a37bb7ec-de3d-4fc6-b3dd-e9d23766bb28",
   "metadata": {},
   "source": [
    "These importance values indicate the relative importance of each feature in your analysis. Positive values suggest a positive impact on the target variable, while negative values suggest a negative impact"
   ]
  },
  {
   "cell_type": "markdown",
   "id": "09d1a0bd-f87a-4618-bc7b-b742b49ae8be",
   "metadata": {},
   "source": [
    "### Regression Plot"
   ]
  },
  {
   "cell_type": "code",
   "execution_count": 26,
   "id": "6ca960ee-622f-46cc-9a56-d43c4d0206be",
   "metadata": {
    "vscode": {
     "languageId": "r"
    }
   },
   "outputs": [
    {
     "name": "stderr",
     "output_type": "stream",
     "text": [
      "\u001b[1m\u001b[22m`geom_smooth()` using formula = 'y ~ x'\n"
     ]
    },
    {
     "data": {
      "image/png": "[encoded data removed]",
      "text/plain": [
       "plot without title"
      ]
     },
     "metadata": {
      "image/png": {
       "height": 420,
       "width": 420
      }
     },
     "output_type": "display_data"
    }
   ],
   "source": [
    "# let's plot the regression line on test data\n",
    "ggplot(test_data, aes(x = total_victims)) +\n",
    "  geom_point(aes(y = predicted_total_victims, color = \"Predicted\"), alpha = 0.3, size = 2) +  # Predicted values with lower alpha and larger size\n",
    "  geom_point(aes(y = total_victims, color = \"Actual\"), alpha = 0.7, size = 2) +  # Actual values with higher alpha and larger size\n",
    "  geom_smooth(aes(y = predicted_total_victims), method = \"lm\", se = FALSE, color = \"purple\") +  # Regression line\n",
    "  scale_color_manual(name = \"Values\", values = c(\"Predicted\" = \"blue\", \"Actual\" = \"red\"), labels = c(\"Predicted\", \"Actual\")) +  # Add legend\n",
    "  labs(x = \"Actual Values\", y = \"Predicted Values\", title = \"Actual vs. Predicted Values\") +\n",
    "  theme_minimal()"
   ]
  },
  {
   "cell_type": "markdown",
   "id": "fe32ed24-60c7-4409-bf52-86c5902b78d6",
   "metadata": {
    "vscode": {
     "languageId": "r"
    }
   },
   "source": [
    "Lets see how well our model able to predict the total_victims, It's scatter plot of actual values vs predicted values , red dots represent predicted values and blue shows a actual values.we're seeing less red dots compared to blue that's because they're overlapping. if you line doesn't start from 0 it starts from >0 on Y-axis that point is called as intercept.\n",
    "Intercept:  This value, 0.0063813, represents the y-intercept of the regression line. It signifies the predicted value of the dependent variable on the y-axis when the independent variable (x) is zero. In simpler terms, it's the point where the regression line crosses the y-axis.\n",
    "Overall our model fairly captures relationship between dependet variable and independents variables.\n",
    "There will always be some data points that fall above or below the line.\n"
   ]
  },
  {
   "cell_type": "code",
   "execution_count": null,
   "id": "c7320135-5fc3-48a3-af8a-67a300832c34",
   "metadata": {},
   "outputs": [],
   "source": []
  }
 ],
 "metadata": {
  "kernelspec": {
   "display_name": "R",
   "language": "R",
   "name": "ir"
  },
  "language_info": {
   "codemirror_mode": "r",
   "file_extension": ".r",
   "mimetype": "text/x-r-source",
   "name": "R",
   "pygments_lexer": "r",
   "version": "4.1.3"
  }
 },
 "nbformat": 4,
 "nbformat_minor": 5
}
