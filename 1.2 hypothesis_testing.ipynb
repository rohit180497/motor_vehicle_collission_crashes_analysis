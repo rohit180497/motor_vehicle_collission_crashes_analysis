{
 "cells": [
  {
   "cell_type": "markdown",
   "id": "1256ec68-e891-4138-a885-8c7c0db293e8",
   "metadata": {},
   "source": [
    "\n",
    "<BR>\n",
    "<CENTER>\n",
    "<FONT SIZE = 4, COLOR=\"#2C32C3\">\n",
    "<BR><B>Northeastern University</B>\n",
    "<BR><B><font size=4, color=black>Husky-3,</BR>\n",
    "ALY6010 Prob Theory and Intro Stats</B>\n",
    " <BR> Motor Vehicle Collision Crash in New York(2017-2023)\n",
    "<BR> Final Project — Milestone 2 (Hypothesis Testing)\n",
    "<BR> Aliha Ansari, Leena Doultani, Rohit Kosamkar, Sapna Chavan, Soumya Guliyan, Baudhik Kevadiya\n",
    "<BR><font size=4, color=dark red> Date: 03.12.2024\n",
    "</FONT>\n",
    "</CENTER>"
   ]
  },
  {
   "cell_type": "code",
   "execution_count": null,
   "id": "3b79f72b-4001-456a-ac8a-c49bf80e36ee",
   "metadata": {
    "vscode": {
     "languageId": "r"
    }
   },
   "outputs": [],
   "source": [
    "# Importing libraries\n",
    "library(dplyr)"
   ]
  },
  {
   "cell_type": "code",
   "execution_count": 2,
   "id": "62e9ef76-c958-47d8-b2a7-8debac88819b",
   "metadata": {
    "vscode": {
     "languageId": "r"
    }
   },
   "outputs": [],
   "source": [
    "# Reading Dataset \n",
    "crash_data <- read.csv(\"motor_vehicle_crashes_clean_data.csv\")"
   ]
  },
  {
   "cell_type": "markdown",
   "id": "9bde8d15-05e2-4607-a906-18a28ef571c2",
   "metadata": {},
   "source": [
    "### Q1: Is there a significant difference in the proportion of crashes caused by \"Driver Inattention/Distraction\" between morning rush hour (8-10 AM) and evening rush hour (5-7 PM)?\n",
    "\n",
    "· Null Hypothesis (H0): There is no difference in the proportion of crashes caused by \"Driver Inattention/Distraction\" between morning rush hour and evening rush hour.\n",
    "\n",
    "· Alternative Hypothesis (H1): There is a difference in the proportion of crashes caused by \"Driver Inattention/Distraction\" between morning rush hour and evening rush hour.\n",
    "\n",
    "· Test: Chi-square test of independence or proportions test."
   ]
  },
  {
   "cell_type": "code",
   "execution_count": 3,
   "id": "7dd59929-cf9f-468f-866f-52b5445aeccf",
   "metadata": {
    "vscode": {
     "languageId": "r"
    }
   },
   "outputs": [],
   "source": [
    "# cleaning crash time\n",
    "crash_data$crash_time <- gsub(\"^([0-9]{1,2}):([0-9]{2}).*$\", \"\\\\1:\\\\2:00\", crash_data$crash_time)"
   ]
  },
  {
   "cell_type": "code",
   "execution_count": 4,
   "id": "30f483aa-e411-4bc8-8f19-9b30f698e17c",
   "metadata": {
    "vscode": {
     "languageId": "r"
    }
   },
   "outputs": [],
   "source": [
    "# Standardizing the format of crash_time (assuming it's in HH:MM format)\n",
    "crash_data$crash_datetime <- as.POSIXlt(paste(crash_data$crash_date, crash_data$crash_time), format = \"%Y-%m-%d %H:%M:%S\")"
   ]
  },
  {
   "cell_type": "code",
   "execution_count": 5,
   "id": "6c8bd51b-0cf7-4383-bd31-b2cbd2524ff7",
   "metadata": {
    "vscode": {
     "languageId": "r"
    }
   },
   "outputs": [],
   "source": [
    "# creating new column Time period based on rush hour at morning & evening\n",
    "crash_data$time_period <- factor(ifelse(format(crash_data$crash_datetime, \"%H:%M\") >= \"08:00\" & \n",
    "                                          format(crash_data$crash_datetime, \"%H:%M\") <= \"10:00\", \n",
    "                                        \"Morning Rush Hour\",\n",
    "                                        ifelse(format(crash_data$crash_datetime, \"%H:%M\") >= \"17:00\" &\n",
    "                                                 format(crash_data$crash_datetime, \"%H:%M\") <= \"19:00\", \n",
    "                                               \"Evening Rush Hour\", \n",
    "                                               \"Other\")), \n",
    "                                 levels = c(\"Morning Rush Hour\", \"Evening Rush Hour\", \"Other\"))\n"
   ]
  },
  {
   "cell_type": "code",
   "execution_count": 6,
   "id": "b2471dd5-6835-49f3-b421-3a744434cd17",
   "metadata": {
    "scrolled": true,
    "vscode": {
     "languageId": "r"
    }
   },
   "outputs": [
    {
     "name": "stdout",
     "output_type": "stream",
     "text": [
      "\n",
      "\tPearson's Chi-squared test\n",
      "\n",
      "data:  cont_table\n",
      "X-squared = 108.92, df = 2, p-value < 2.2e-16\n",
      "\n"
     ]
    }
   ],
   "source": [
    "# creating Contingency table regards to Driver Inattention/Distraction based on time period\n",
    "cont_table <- table(crash_data$time_period, crash_data$contributing_factor_vehicle_1 == \"Driver Inattention/Distraction\")\n",
    "\n",
    "chi_sq_test <- chisq.test(cont_table)\n",
    "\n",
    "print(chi_sq_test)"
   ]
  },
  {
   "cell_type": "markdown",
   "id": "7c4833b8-70b9-487a-ae12-779380b7fdb3",
   "metadata": {},
   "source": [
    "**Test Interpretation:** Since the p-value is much smaller than the chosen significance level (e.g., 0.05), we reject the null hypothesis. Therefore, we conclude that there is a statistically significant difference in the proportions of crashes caused by \"Driver Inattention/Distraction\" between morning and evening rush hours. In other words, the time period is associated with the occurrence of crashes caused by \"Driver Inattention/Distraction\"."
   ]
  },
  {
   "cell_type": "markdown",
   "id": "b171213e-9716-4500-bcf1-9ed1d33ac30d",
   "metadata": {},
   "source": [
    "###  Q2: Is there a significant difference in the average number of crashes between boroughs in New York City?\n",
    "\n",
    "· Null Hypothesis (H0): There is no difference in the average number of crashes between boroughs in New York City.\n",
    "\n",
    "· Alternative Hypothesis (H1): There is a difference in the average number of crashes between boroughs in New York City.\n",
    "\n",
    "· Welch Two Sample t-test\n",
    "risons"
   ]
  },
  {
   "cell_type": "code",
   "execution_count": 7,
   "id": "5c8c0eae-3291-43df-86a3-116f3a4a01b9",
   "metadata": {
    "vscode": {
     "languageId": "r"
    }
   },
   "outputs": [
    {
     "name": "stdout",
     "output_type": "stream",
     "text": [
      "[1] 1112224\n"
     ]
    }
   ],
   "source": [
    "# filtering data based on borough and dropping blanks for analysis and hypothesis tests\n",
    "total_crashes <- nrow(crash_data)\n",
    "crashes_borough <- crash_data %>%\n",
    "  filter( borough != \"\")\n",
    "print(total_crashes)"
   ]
  },
  {
   "cell_type": "code",
   "execution_count": 8,
   "id": "ea88d4fd-95d0-4fb2-8787-6f24633f0f49",
   "metadata": {
    "vscode": {
     "languageId": "r"
    }
   },
   "outputs": [
    {
     "name": "stdout",
     "output_type": "stream",
     "text": [
      "\u001b[90m# A tibble: 5 x 2\u001b[39m\n",
      "  borough       number_of_crashes\n",
      "  \u001b[3m\u001b[90m<chr>\u001b[39m\u001b[23m                     \u001b[3m\u001b[90m<int>\u001b[39m\u001b[23m\n",
      "\u001b[90m1\u001b[39m BRONX                    \u001b[4m1\u001b[24m\u001b[4m1\u001b[24m\u001b[4m8\u001b[24m867\n",
      "\u001b[90m2\u001b[39m BROOKLYN                 \u001b[4m2\u001b[24m\u001b[4m3\u001b[24m\u001b[4m7\u001b[24m025\n",
      "\u001b[90m3\u001b[39m MANHATTAN                \u001b[4m1\u001b[24m\u001b[4m3\u001b[24m\u001b[4m7\u001b[24m441\n",
      "\u001b[90m4\u001b[39m QUEENS                   \u001b[4m1\u001b[24m\u001b[4m9\u001b[24m\u001b[4m9\u001b[24m013\n",
      "\u001b[90m5\u001b[39m STATEN ISLAND             \u001b[4m2\u001b[24m\u001b[4m6\u001b[24m991\n"
     ]
    }
   ],
   "source": [
    "# Aggregating crash data by borough\n",
    "crashes_by_borough <- crashes_borough %>%\n",
    "  group_by(borough) %>%\n",
    "  summarise(number_of_crashes = n())\n",
    "\n",
    "# let's print the aggregated data\n",
    "print(crashes_by_borough)\n"
   ]
  },
  {
   "cell_type": "code",
   "execution_count": 9,
   "id": "2164c567-40f9-466e-8f75-cf116aef3bf0",
   "metadata": {
    "vscode": {
     "languageId": "r"
    }
   },
   "outputs": [],
   "source": [
    "# Filtering  and Aggregating Daily Crash Counts for Brooklyn\n",
    "brooklyn_daily_crashes <- crash_data %>%\n",
    "  filter(borough == \"BROOKLYN\") %>%\n",
    "  group_by(crash_date) %>%\n",
    "  summarise(daily_crashes = n())"
   ]
  },
  {
   "cell_type": "code",
   "execution_count": 10,
   "id": "5da9a4ed-80d6-493e-a6d6-eacc7173b2ae",
   "metadata": {
    "vscode": {
     "languageId": "r"
    }
   },
   "outputs": [
    {
     "name": "stdout",
     "output_type": "stream",
     "text": [
      "\n",
      "\tOne Sample t-test\n",
      "\n",
      "data:  brooklyn_daily_crashes$daily_crashes\n",
      "t = -13.844, df = 2616, p-value < 2.2e-16\n",
      "alternative hypothesis: true mean is not equal to 100\n",
      "95 percent confidence interval:\n",
      " 89.23578 91.90675\n",
      "sample estimates:\n",
      "mean of x \n",
      " 90.57126 \n",
      "\n"
     ]
    }
   ],
   "source": [
    "# One sample t-test\n",
    "city_t_test_result <- t.test(brooklyn_daily_crashes$daily_crashes, mu = 100)\n",
    "print(city_t_test_result)"
   ]
  },
  {
   "cell_type": "markdown",
   "id": "7906360e-eb37-4ce0-88e9-739b55201190",
   "metadata": {},
   "source": [
    "**Test Interpretation:** The one-sample t-test conducted on Brooklyn's daily crash counts reveals a significant deviation from the hypothesized mean of 100 crashes per day, with an observed mean of approximately 90.57 crashes. The test's highly significant p-value (less than 2.2e-16) and a confidence interval ranging from 89.24 to 91.91, which does not encompass the hypothesized mean, strongly indicate that the actual average daily crash count is significantly lower than expected. This finding suggests that Brooklyn experiences fewer crashes than anticipated, highlighting the potential effectiveness of traffic safety measures and urban planning strategies in reducing crash incidences in the borough."
   ]
  },
  {
   "cell_type": "code",
   "execution_count": 11,
   "id": "1b18e9d2-d510-4c81-ae44-8afc769eb6fd",
   "metadata": {
    "vscode": {
     "languageId": "r"
    }
   },
   "outputs": [
    {
     "name": "stdout",
     "output_type": "stream",
     "text": [
      "\n",
      "\tWelch Two Sample t-test\n",
      "\n",
      "data:  brooklyn_crashes and manhattan_crashes\n",
      "t = 42.895, df = 285501, p-value < 2.2e-16\n",
      "alternative hypothesis: true difference in means is not equal to 0\n",
      "95 percent confidence interval:\n",
      " 44943.43 49247.21\n",
      "sample estimates:\n",
      "mean of x mean of y \n",
      "  4169799   4122704 \n",
      "\n"
     ]
    }
   ],
   "source": [
    "# crashes data for Brooklyn and Manhattan\n",
    "brooklyn_crashes <- filter(crash_data, borough == \"BROOKLYN\")$collision_id\n",
    "manhattan_crashes <- filter(crash_data, borough == \"MANHATTAN\")$collision_id\n",
    "\n",
    "# Performing two-sample t-test\n",
    "borough_t_test_result <- t.test(brooklyn_crashes, manhattan_crashes)\n",
    "print(borough_t_test_result)"
   ]
  },
  {
   "cell_type": "markdown",
   "id": "00d7f692-76bf-46e8-b02c-0b405ede38c0",
   "metadata": {},
   "source": [
    "**Test Interpretation:** The Welch Two Sample t-test comparing vehicle crashes between Brooklyn and Manhattan reveals a significant difference, with a large t-statistic of 42.895 and a negligible p-value (less than 2.2e-16), indicating the disparity in crash averages between the two boroughs is highly significant. Specifically, Brooklyn has between 44,943 to 49,247 more crashes on average than Manhattan, as demonstrated by the 95% confidence interval. This statistical analysis robustly supports the conclusion that Brooklyn experiences a significantly higher number of vehicle crashes compared to Manhattan."
   ]
  },
  {
   "cell_type": "markdown",
   "id": "b60b4c08-3d8c-4c57-94d8-1f5e10f5bb25",
   "metadata": {},
   "source": [
    "### Q3. Is there a significant difference between mean number of persons injured between different months \n",
    "\n",
    "· Null Hypothesis (H0): There is no significant difference in the mean number of persons injured between different months.\n",
    "\n",
    "· Alternative Hypothesis (H1): There is a significant difference in the mean number of persons injured between different months.\n",
    "\n",
    "· Test: Pairwise Two Sample t-test\n"
   ]
  },
  {
   "cell_type": "code",
   "execution_count": 12,
   "id": "e412bdbd-836b-4c5a-8053-bec61dcdd622",
   "metadata": {
    "vscode": {
     "languageId": "r"
    }
   },
   "outputs": [],
   "source": [
    "# Group the data by month and calculate the average number of crashes for each month\n",
    "avg_crashes_by_month <- crash_data %>%\n",
    "  group_by(month) %>%\n",
    "  summarize(avg_crashes = mean(number_of_persons_injured, na.rm = TRUE))  "
   ]
  },
  {
   "cell_type": "code",
   "execution_count": 13,
   "id": "1670d826-8316-45be-9040-5edb15a4692c",
   "metadata": {
    "vscode": {
     "languageId": "r"
    }
   },
   "outputs": [],
   "source": [
    "# One-sample t-test comparing the average number of crashes for each month against the overall average\n",
    "overall_avg_crashes <- mean(crash_data$number_of_persons_injured, na.rm = TRUE)  \n",
    "one_sample_t_test <- t.test(avg_crashes_by_month$avg_crashes, mu = overall_avg_crashes)"
   ]
  },
  {
   "cell_type": "code",
   "execution_count": 14,
   "id": "5df6c212-3936-4661-ab62-4462dba2f8df",
   "metadata": {
    "vscode": {
     "languageId": "r"
    }
   },
   "outputs": [
    {
     "name": "stdout",
     "output_type": "stream",
     "text": [
      "Two-Sample T-test Results:\n",
      "\n",
      "\tPairwise comparisons using t tests with pooled SD \n",
      "\n",
      "data:  crash_data$number_of_persons_injured and crash_data$month \n",
      "\n",
      "   1       2       3       4       5       6       7       8       9      \n",
      "2  1.00000 -       -       -       -       -       -       -       -      \n",
      "3  0.01983 9.8e-05 -       -       -       -       -       -       -      \n",
      "4  0.00176 0.26278 1.8e-12 -       -       -       -       -       -      \n",
      "5  < 2e-16 2.4e-11 < 2e-16 0.00197 -       -       -       -       -      \n",
      "6  < 2e-16 < 2e-16 < 2e-16 1.1e-10 0.18398 -       -       -       -      \n",
      "7  < 2e-16 < 2e-16 < 2e-16 < 2e-16 9.0e-13 0.00013 -       -       -      \n",
      "8  < 2e-16 < 2e-16 < 2e-16 < 2e-16 < 2e-16 1.8e-08 1.00000 -       -      \n",
      "9  < 2e-16 < 2e-16 < 2e-16 < 2e-16 8.9e-14 2.9e-05 1.00000 1.00000 -      \n",
      "10 < 2e-16 < 2e-16 < 2e-16 9.9e-15 0.00137 1.00000 0.03447 3.2e-05 0.01067\n",
      "11 < 2e-16 1.7e-11 < 2e-16 0.00132 1.00000 0.35279 7.5e-12 < 2e-16 8.2e-13\n",
      "12 < 2e-16 7.6e-12 < 2e-16 0.00078 1.00000 0.53618 2.3e-11 < 2e-16 2.6e-12\n",
      "   10      11     \n",
      "2  -       -      \n",
      "3  -       -      \n",
      "4  -       -      \n",
      "5  -       -      \n",
      "6  -       -      \n",
      "7  -       -      \n",
      "8  -       -      \n",
      "9  -       -      \n",
      "10 -       -      \n",
      "11 0.00365 -      \n",
      "12 0.00660 1.00000\n",
      "\n",
      "P value adjustment method: bonferroni \n"
     ]
    }
   ],
   "source": [
    "# Two-sample t-tests (pairwise) comparing the average number of crashes between each pair of months\n",
    "injury_t_test <- pairwise.t.test(crash_data$number_of_persons_injured, crash_data$month , p.adjust.method = \"bonferroni\")  \n",
    "cat(\"Two-Sample T-test Results:\\n\")\n",
    "print(injury_t_test)\n"
   ]
  },
  {
   "cell_type": "markdown",
   "id": "92ac1d24-44d3-4958-af9f-e8b58e9f82cf",
   "metadata": {},
   "source": [
    "**Test Interpretation:**  \n",
    "Each cell in the table represents the p-value obtained from comparing the average number of persons injured between two months.\n",
    "The rows and columns represent the months being compared.\n",
    "For example, the p-value in row \"04\" and column \"05\" (5.2e-15) indicates the significance level of the difference in the average number of persons injured between April and May.\n",
    "The p-values are adjusted using the Bonferroni correction method to account for multiple comparisons.\n",
    "\n",
    "Many of the p-values are significantly smaller than 0.05, indicating significant differences in the mean number of persons injured between the corresponding months. Therefore, based on these results, we would likely reject the null hypothesis and conclude that there are significant differences in the mean number of persons injured between multiple pairs of months."
   ]
  },
  {
   "cell_type": "markdown",
   "id": "0f163c9f-d169-4fb1-a05b-065f758a2408",
   "metadata": {},
   "source": [
    "### Q4. Whether the mean total injury in the latest year significantly differs from previous year ?\n",
    "\n",
    "Null Hypothesis (H0): The mean total injury in the latest year is equal to 0.7 \n",
    "\n",
    "Alternative Hypothesis (H1): The mean total injury in the latest year is not equal to.7\n",
    "\n",
    "Test: One Sample t-test0."
   ]
  },
  {
   "cell_type": "code",
   "execution_count": 15,
   "id": "d08ba71f-8161-42e7-9480-5866967e243c",
   "metadata": {
    "vscode": {
     "languageId": "r"
    }
   },
   "outputs": [
    {
     "data": {
      "text/html": [
       "0.604109970951409"
      ],
      "text/latex": [
       "0.604109970951409"
      ],
      "text/markdown": [
       "0.604109970951409"
      ],
      "text/plain": [
       "[1] 0.60411"
      ]
     },
     "metadata": {},
     "output_type": "display_data"
    }
   ],
   "source": [
    "# Let's find out previous year mean of total injury\n",
    "\n",
    "df_prev_year <- crash_data %>%\n",
    "  filter(year %in% c(2018, 2019, 2020))\n",
    "mean(df_prev_year$total_injury)"
   ]
  },
  {
   "cell_type": "code",
   "execution_count": 16,
   "id": "e2958dec-144f-4d09-a995-7d0f1cfdbf4c",
   "metadata": {
    "vscode": {
     "languageId": "r"
    }
   },
   "outputs": [],
   "source": [
    "df_latest_year <- crash_data %>%\n",
    "  filter(year %in% c(2021, 2022, 2023))"
   ]
  },
  {
   "cell_type": "code",
   "execution_count": 17,
   "id": "00795d3c-09c4-4337-9486-08b3351bc294",
   "metadata": {
    "vscode": {
     "languageId": "r"
    }
   },
   "outputs": [
    {
     "data": {
      "text/plain": [
       "\n",
       "\tOne Sample t-test\n",
       "\n",
       "data:  df_latest_year$total_injury\n",
       "t = 134.16, df = 310992, p-value < 2.2e-16\n",
       "alternative hypothesis: true mean is not equal to 0.6\n",
       "95 percent confidence interval:\n",
       " 0.9876796 0.9991754\n",
       "sample estimates:\n",
       "mean of x \n",
       "0.9934275 \n"
      ]
     },
     "metadata": {},
     "output_type": "display_data"
    }
   ],
   "source": [
    "# Performing one-sample t-test\n",
    "t_test_result <- t.test(df_latest_year$total_injury, mu = 0.6)\n",
    "\n",
    "t_test_result"
   ]
  },
  {
   "cell_type": "markdown",
   "id": "164ebd59-3731-439d-86c5-3a38aa2d1577",
   "metadata": {},
   "source": [
    "**Test Interpretation:** Since the p-value is extremely small (less than any conventional significance level), we reject the null hypothesis. This suggests strong evidence that the true mean total injury in the latest year is not equal to 0.6. The 95% confidence interval also supports this conclusion, as it does not include the value 0.6. Therefore, we conclude that there is a significant difference in the mean total injury compared to the hypothesized value of 0.6."
   ]
  },
  {
   "cell_type": "markdown",
   "id": "f027dfb0-584f-4695-9fda-4bf4d1945486",
   "metadata": {},
   "source": [
    "**References:**  \n",
    "1. https://www.rdocumentation.org/packages/stats/versions/3.6.2/topics/t.test\n",
    "2. https://www.datanovia.com/en/lessons/pairwise-t-test\n",
    "3. https://www.voxco.com/blog/welchs-t-test/\n"
   ]
  },
  {
   "cell_type": "code",
   "execution_count": null,
   "id": "b55af170-ddff-4a03-b97e-07f1d0837dcb",
   "metadata": {
    "vscode": {
     "languageId": "r"
    }
   },
   "outputs": [],
   "source": []
  }
 ],
 "metadata": {
  "kernelspec": {
   "display_name": "R",
   "language": "R",
   "name": "ir"
  },
  "language_info": {
   "codemirror_mode": "r",
   "file_extension": ".r",
   "mimetype": "text/x-r-source",
   "name": "R",
   "pygments_lexer": "r",
   "version": "4.1.3"
  }
 },
 "nbformat": 4,
 "nbformat_minor": 5
}
